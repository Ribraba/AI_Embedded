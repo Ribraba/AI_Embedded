{
  "cells": [
    {
      "cell_type": "markdown",
      "metadata": {
        "id": "view-in-github",
        "colab_type": "text"
      },
      "source": [
        "<a href=\"https://colab.research.google.com/github/Ribraba/AI_Embedded/blob/train-model-ml/TP_IA_EMBARQUEE.ipynb\" target=\"_parent\"><img src=\"https://colab.research.google.com/assets/colab-badge.svg\" alt=\"Open In Colab\"/></a>"
      ]
    },
    {
      "cell_type": "markdown",
      "metadata": {
        "id": "ZLQS0KLMycmb"
      },
      "source": [
        "## **PRACTICAL SESSION 1** — Deep Learning for predictive maintenance"
      ]
    },
    {
      "cell_type": "markdown",
      "metadata": {
        "id": "3mjNAfgj4K1_"
      },
      "source": [
        "The dataset used is the **AI4I 2020** Predictive Maintenance Dataset, which contains 10,000 instances of industrial sensor data. Each instance represents the operating condition of a machine and is associated with a label indicating whether a failure has occurred and, if so, what type of failure it is.\n",
        "\n",
        "The 5 possible labels are:\n",
        "\n",
        "\n",
        "\n",
        "*   **TWF**: Tool Wear Failure\n",
        "*   **HDF**: Heat Dissipation Failure\n",
        "*   **PWF**: Power Failure\n",
        "*   **OSF**: Overstrain Failure\n",
        "*   **RNF**: Random Failure\n",
        "\n",
        "\n",
        "The data is available on eCAMPUS as CSV file called: \"ai4i2020.csv\"\n",
        "\n"
      ]
    },
    {
      "cell_type": "markdown",
      "metadata": {
        "id": "4_LBMVsgRI9W"
      },
      "source": [
        "## **PRACTICAL SESSION Goal** — Ceate a deep leanring model allowing to realize a predictive maintenance mission"
      ]
    },
    {
      "cell_type": "markdown",
      "metadata": {
        "id": "wt7L0p4MbIIw"
      },
      "source": [
        "## **1 - Analysis of the dataset**\n",
        "\n"
      ]
    },
    {
      "cell_type": "markdown",
      "metadata": {
        "id": "0JFIZ6mtRapt"
      },
      "source": [
        "All libraries used ***SHOULD BE PLACED*** in the code cell below"
      ]
    },
    {
      "cell_type": "code",
      "execution_count": null,
      "metadata": {
        "colab": {
          "base_uri": "https://localhost:8080/"
        },
        "id": "UQp7FGSb5Vlv",
        "outputId": "d441cecf-0449-4c81-d6d2-cd766601b6cd"
      },
      "outputs": [
        {
          "output_type": "stream",
          "name": "stdout",
          "text": [
            "Librairies importées.\n"
          ]
        }
      ],
      "source": [
        "import numpy as np\n",
        "import pandas as pd\n",
        "import matplotlib.pyplot as plt\n",
        "\n",
        "# Pour le prétraitement et le split\n",
        "from sklearn.model_selection import train_test_split\n",
        "from sklearn.preprocessing import StandardScaler\n",
        "\n",
        "# Pour la partie deep learning\n",
        "import tensorflow as tf\n",
        "\n",
        "print(\"Librairies importées.\")"
      ]
    },
    {
      "cell_type": "markdown",
      "metadata": {
        "id": "eFRcS74MDeSf"
      },
      "source": [
        "**QUESTION:** Load dataset and display some lines of the csv file."
      ]
    },
    {
      "cell_type": "code",
      "execution_count": null,
      "metadata": {
        "colab": {
          "base_uri": "https://localhost:8080/"
        },
        "id": "9l044FZ_5-fN",
        "outputId": "3acf1682-639a-4d69-fee9-d45fb22eeb7f"
      },
      "outputs": [
        {
          "output_type": "stream",
          "name": "stdout",
          "text": [
            "Dataset AI4I chargé avec succès.\n",
            "Aperçu du dataset :\n",
            "   UDI Product ID Type  Air temperature [K]  Process temperature [K]  \\\n",
            "0    1     M14860    M                298.1                    308.6   \n",
            "1    2     L47181    L                298.2                    308.7   \n",
            "2    3     L47182    L                298.1                    308.5   \n",
            "3    4     L47183    L                298.2                    308.6   \n",
            "4    5     L47184    L                298.2                    308.7   \n",
            "\n",
            "   Rotational speed [rpm]  Torque [Nm]  Tool wear [min]  Machine failure  TWF  \\\n",
            "0                    1551         42.8                0                0    0   \n",
            "1                    1408         46.3                3                0    0   \n",
            "2                    1498         49.4                5                0    0   \n",
            "3                    1433         39.5                7                0    0   \n",
            "4                    1408         40.0                9                0    0   \n",
            "\n",
            "   HDF  PWF  OSF  RNF  \n",
            "0    0    0    0    0  \n",
            "1    0    0    0    0  \n",
            "2    0    0    0    0  \n",
            "3    0    0    0    0  \n",
            "4    0    0    0    0  \n",
            "\n",
            "Description statistique :\n",
            "               UDI  Air temperature [K]  Process temperature [K]  \\\n",
            "count  10000.00000         10000.000000             10000.000000   \n",
            "mean    5000.50000           300.004930               310.005560   \n",
            "std     2886.89568             2.000259                 1.483734   \n",
            "min        1.00000           295.300000               305.700000   \n",
            "25%     2500.75000           298.300000               308.800000   \n",
            "50%     5000.50000           300.100000               310.100000   \n",
            "75%     7500.25000           301.500000               311.100000   \n",
            "max    10000.00000           304.500000               313.800000   \n",
            "\n",
            "       Rotational speed [rpm]   Torque [Nm]  Tool wear [min]  Machine failure  \\\n",
            "count            10000.000000  10000.000000     10000.000000     10000.000000   \n",
            "mean              1538.776100     39.986910       107.951000         0.033900   \n",
            "std                179.284096      9.968934        63.654147         0.180981   \n",
            "min               1168.000000      3.800000         0.000000         0.000000   \n",
            "25%               1423.000000     33.200000        53.000000         0.000000   \n",
            "50%               1503.000000     40.100000       108.000000         0.000000   \n",
            "75%               1612.000000     46.800000       162.000000         0.000000   \n",
            "max               2886.000000     76.600000       253.000000         1.000000   \n",
            "\n",
            "                TWF           HDF           PWF           OSF          RNF  \n",
            "count  10000.000000  10000.000000  10000.000000  10000.000000  10000.00000  \n",
            "mean       0.004600      0.011500      0.009500      0.009800      0.00190  \n",
            "std        0.067671      0.106625      0.097009      0.098514      0.04355  \n",
            "min        0.000000      0.000000      0.000000      0.000000      0.00000  \n",
            "25%        0.000000      0.000000      0.000000      0.000000      0.00000  \n",
            "50%        0.000000      0.000000      0.000000      0.000000      0.00000  \n",
            "75%        0.000000      0.000000      0.000000      0.000000      0.00000  \n",
            "max        1.000000      1.000000      1.000000      1.000000      1.00000  \n"
          ]
        }
      ],
      "source": [
        "# Adaptez le chemin si nécessaire\n",
        "df = pd.read_csv('ai4i2020.csv')\n",
        "print(\"Dataset AI4I chargé avec succès.\")\n",
        "\n",
        "# Aperçu rapide\n",
        "print(\"Aperçu du dataset :\")\n",
        "print(df.head())\n",
        "print(\"\\nDescription statistique :\")\n",
        "print(df.describe())"
      ]
    },
    {
      "cell_type": "markdown",
      "metadata": {
        "id": "joQOXoqaD8JA"
      },
      "source": [
        "**QUESTION:** Display the distribution of machine failures and non-failures with a bar graph."
      ]
    },
    {
      "cell_type": "code",
      "execution_count": null,
      "metadata": {
        "colab": {
          "base_uri": "https://localhost:8080/",
          "height": 571
        },
        "id": "r3Q1l9JoMs7m",
        "outputId": "9140fe23-3bc9-4c8c-f55c-164eea9438bf"
      },
      "outputs": [
        {
          "output_type": "stream",
          "name": "stdout",
          "text": [
            "\n",
            "Répartition des classes (failures vs non-failures) :\n",
            "Machine failure\n",
            "0    9661\n",
            "1     339\n",
            "Name: count, dtype: int64\n"
          ]
        },
        {
          "output_type": "display_data",
          "data": {
            "text/plain": [
              "<Figure size 640x480 with 1 Axes>"
            ],
            "image/png": "[encoded data removed]"
          },
          "metadata": {}
        }
      ],
      "source": [
        "failure_counts = df['Machine failure'].value_counts()\n",
        "print(\"\\nRépartition des classes (failures vs non-failures) :\")\n",
        "print(failure_counts)\n",
        "\n",
        "# Bar chart\n",
        "plt.figure()\n",
        "failure_counts.plot(kind='bar')\n",
        "plt.title(\"Distribution des MachineFailures (0 = pas de panne, 1 = panne)\")\n",
        "plt.xlabel(\"Label de panne\")\n",
        "plt.ylabel(\"Nombre d'échantillons\")\n",
        "plt.show()"
      ]
    },
    {
      "cell_type": "markdown",
      "metadata": {
        "id": "vCNIqXVyEkrR"
      },
      "source": [
        "**ANALYSIS QUESTION:** What do you observe?"
      ]
    },
    {
      "cell_type": "markdown",
      "metadata": {
        "id": "6BMGtlIWE-C0"
      },
      "source": [
        "On observe qu'il y a énormément de machines **sans panne** et qu'au contraire, il y très peu de cas labellisés **avec panne**. Cela indique que le jeu de données est fortement déséquilibré en faveur de la classe *« pas de panne »*."
      ]
    },
    {
      "cell_type": "markdown",
      "metadata": {
        "id": "huU5I4x8SzlN"
      },
      "source": [
        "**ANALYSIS QUESTION:** What will be the consequence of this phenomenon on the model's learning?"
      ]
    },
    {
      "cell_type": "code",
      "source": [
        "from google.colab import drive\n",
        "drive.mount('/content/drive')"
      ],
      "metadata": {
        "id": "m4VfxzsxJfHd"
      },
      "execution_count": null,
      "outputs": []
    },
    {
      "cell_type": "markdown",
      "metadata": {
        "id": "JHmYROP0TLIS"
      },
      "source": [
        "Étant donné que la classe *« pas de panne »* est majoritaire, le modèle risque de **favoriser** la prédiction *« pas de panne »* pour la plupart des échantillons.\n",
        "\n",
        "On peut s’attendre à ce que le modèle ait une **accuracy** globale trompeusement élevée (car il prédit souvent 0), tout en étant **peu performant** pour détecter les pannes réelles (c’est-à-dire une faiblesse sur la capacité à repérer la classe minoritaire)."
      ]
    },
    {
      "cell_type": "markdown",
      "metadata": {
        "id": "0s-mzCCsSasl"
      },
      "source": [
        "**QUESTION:** Create a bar chart showing the distribution of different failure types (TWF, HDF, PWF, OSF, RNF). Display the exact values above each bar in the chart.\""
      ]
    },
    {
      "cell_type": "code",
      "execution_count": null,
      "metadata": {
        "colab": {
          "base_uri": "https://localhost:8080/",
          "height": 931
        },
        "id": "nQyJCfamMdJN",
        "outputId": "fd59c406-95f0-49ad-e2dc-b4ef65891d54"
      },
      "outputs": [
        {
          "output_type": "stream",
          "name": "stdout",
          "text": [
            "Information sur les colonnes (noms et types) :\n",
            "<class 'pandas.core.frame.DataFrame'>\n",
            "RangeIndex: 10000 entries, 0 to 9999\n",
            "Data columns (total 14 columns):\n",
            " #   Column                   Non-Null Count  Dtype  \n",
            "---  ------                   --------------  -----  \n",
            " 0   UDI                      10000 non-null  int64  \n",
            " 1   Product ID               10000 non-null  object \n",
            " 2   Type                     10000 non-null  object \n",
            " 3   Air temperature [K]      10000 non-null  float64\n",
            " 4   Process temperature [K]  10000 non-null  float64\n",
            " 5   Rotational speed [rpm]   10000 non-null  int64  \n",
            " 6   Torque [Nm]              10000 non-null  float64\n",
            " 7   Tool wear [min]          10000 non-null  int64  \n",
            " 8   Machine failure          10000 non-null  int64  \n",
            " 9   TWF                      10000 non-null  int64  \n",
            " 10  HDF                      10000 non-null  int64  \n",
            " 11  PWF                      10000 non-null  int64  \n",
            " 12  OSF                      10000 non-null  int64  \n",
            " 13  RNF                      10000 non-null  int64  \n",
            "dtypes: float64(3), int64(9), object(2)\n",
            "memory usage: 1.1+ MB\n",
            "\n",
            "Distribution des différents types de pannes (TWF, HDF, PWF, OSF, RNF) :\n",
            "TWF     46\n",
            "HDF    115\n",
            "PWF     95\n",
            "OSF     98\n",
            "RNF     19\n",
            "dtype: int64\n"
          ]
        },
        {
          "output_type": "display_data",
          "data": {
            "text/plain": [
              "<Figure size 600x400 with 1 Axes>"
            ],
            "image/png": "[encoded data removed]"
          },
          "metadata": {}
        }
      ],
      "source": [
        "# =========================================\n",
        "# BLOC 1 (complément) : Infos sur les colonnes\n",
        "# =========================================\n",
        "\n",
        "print(\"Information sur les colonnes (noms et types) :\")\n",
        "df.info()  # Affiche nom, type et nombre de valeurs non-nulles pour chaque colonne\n",
        "\n",
        "# =========================================\n",
        "# Distribution des différents types de pannes\n",
        "# =========================================\n",
        "\n",
        "# 1. Afficher la distribution TWF, HDF, PWF, OSF, RNF dans tout le dataset\n",
        "failure_cols = ['TWF', 'HDF', 'PWF', 'OSF', 'RNF']\n",
        "\n",
        "# On suppose que dans votre dataset, ces colonnes sont binaires (0 ou 1)\n",
        "# On fait simplement la somme pour connaître le nombre d'occurrences de chaque type de panne\n",
        "all_failure_counts = df[failure_cols].sum()\n",
        "\n",
        "print(\"\\nDistribution des différents types de pannes (TWF, HDF, PWF, OSF, RNF) :\")\n",
        "print(all_failure_counts)\n",
        "\n",
        "# Bar chart avec valeurs au-dessus des barres\n",
        "plt.figure(figsize=(6,4))\n",
        "bars = plt.bar(all_failure_counts.index, all_failure_counts.values)\n",
        "plt.title(\"Distribution de tous les types de pannes dans le dataset\")\n",
        "plt.xlabel(\"Type de panne\")\n",
        "plt.ylabel(\"Nombre d'occurrences\")\n",
        "\n",
        "# Ajouter le nombre exact au-dessus de chaque barre\n",
        "for bar in bars:\n",
        "    height = bar.get_height()\n",
        "    plt.text(bar.get_x() + bar.get_width()/2, height + 0.5,\n",
        "             f\"{int(height)}\", ha='center', va='bottom')\n",
        "\n",
        "plt.show()\n"
      ]
    },
    {
      "cell_type": "markdown",
      "metadata": {
        "id": "NXyHa73yU8g_"
      },
      "source": [
        "**ANALYSIS QUESTION:** What do you observe?"
      ]
    },
    {
      "cell_type": "markdown",
      "metadata": {
        "id": "WRDFE_dsVBBU"
      },
      "source": [
        "\"Write here your response\""
      ]
    },
    {
      "cell_type": "markdown",
      "metadata": {
        "id": "cvaO2bEIMxLd"
      },
      "source": [
        "**QUESTION:** Create a bar chart showing the distribution of failure types (TWF, HDF, PWF, OSF, RNF) among machines that experienced a failure (Machine failure == 1). Additionally, add a \"No Specific Failure\" category to count cases where a machine failed but no specific failure type was recorded. Display the exact values above each bar in the chart.\""
      ]
    },
    {
      "cell_type": "code",
      "execution_count": null,
      "metadata": {
        "colab": {
          "base_uri": "https://localhost:8080/",
          "height": 587
        },
        "id": "e97htGyyMsle",
        "outputId": "3a6b5a64-7ff6-427c-9bc3-3b31292936f8"
      },
      "outputs": [
        {
          "output_type": "stream",
          "name": "stdout",
          "text": [
            "\n",
            "Distribution des types de pannes parmi les machines en panne uniquement :\n",
            "TWF                     46\n",
            "HDF                    115\n",
            "PWF                     95\n",
            "OSF                     98\n",
            "RNF                      1\n",
            "No Specific Failure      9\n",
            "dtype: int64\n"
          ]
        },
        {
          "output_type": "display_data",
          "data": {
            "text/plain": [
              "<Figure size 700x400 with 1 Axes>"
            ],
            "image/png": "[encoded data removed]"
          },
          "metadata": {}
        }
      ],
      "source": [
        "# =========================================\n",
        "# Distribution des types de pannes UNIQUEMENT pour les machines en panne\n",
        "# + Comptage \"No Specific Failure\"\n",
        "# =========================================\n",
        "\n",
        "# Filtrer uniquement les lignes où 'MachineFailure' == 1\n",
        "df_failure_only = df[df['Machine failure'] == 1]\n",
        "\n",
        "# Compter les pannes (TWF, HDF, PWF, OSF, RNF) parmi ces machines\n",
        "failure_counts = df_failure_only[failure_cols].sum()\n",
        "\n",
        "# Calculer le nombre de machines en panne sans aucun type de panne spécifique\n",
        "# (c'est-à-dire TWF=HDF=PWF=OSF=RNF=0)\n",
        "no_specific_failure = (df_failure_only[failure_cols].sum(axis=1) == 0).sum()\n",
        "\n",
        "\n",
        "# Créer une série pandas combinée avec la catégorie \"No Specific Failure\"\n",
        "failure_counts_extended = failure_counts.copy()\n",
        "failure_counts_extended['No Specific Failure'] = no_specific_failure\n",
        "\n",
        "print(\"\\nDistribution des types de pannes parmi les machines en panne uniquement :\")\n",
        "print(failure_counts_extended)\n",
        "\n",
        "# Bar chart\n",
        "plt.figure(figsize=(7,4))\n",
        "bars2 = plt.bar(failure_counts_extended.index, failure_counts_extended.values)\n",
        "plt.title(\"Distribution des types de pannes pour MachineFailure == 1\\n(incluant No Specific Failure)\")\n",
        "plt.xlabel(\"Type de panne (ou catégorie)\")\n",
        "plt.ylabel(\"Nombre d'occurrences\")\n",
        "\n",
        "# Ajouter les valeurs sur chaque barre\n",
        "for bar in bars2:\n",
        "    height = bar.get_height()\n",
        "    plt.text(bar.get_x() + bar.get_width()/2, height + 0.5,\n",
        "             f\"{int(height)}\", ha='center', va='bottom')\n",
        "\n",
        "plt.show()"
      ]
    },
    {
      "cell_type": "code",
      "execution_count": null,
      "metadata": {
        "colab": {
          "base_uri": "https://localhost:8080/"
        },
        "id": "z96Lob8kkNtb",
        "outputId": "1321ab11-b2ca-4222-bafd-297c113f590e"
      },
      "outputs": [
        {
          "output_type": "execute_result",
          "data": {
            "text/plain": [
              "['UDI',\n",
              " 'Product ID',\n",
              " 'Type',\n",
              " 'Air temperature [K]',\n",
              " 'Process temperature [K]',\n",
              " 'Rotational speed [rpm]',\n",
              " 'Torque [Nm]',\n",
              " 'Tool wear [min]',\n",
              " 'Machine failure',\n",
              " 'TWF',\n",
              " 'HDF',\n",
              " 'PWF',\n",
              " 'OSF',\n",
              " 'RNF']"
            ]
          },
          "metadata": {},
          "execution_count": 26
        }
      ],
      "source": [
        "df.columns.tolist()"
      ]
    },
    {
      "cell_type": "markdown",
      "metadata": {
        "id": "U6_3vAQCOUGb"
      },
      "source": [
        "**ANALYSIS QUESTION:** What do you obsrve comapred to the previous question ? What can you conclude?"
      ]
    },
    {
      "cell_type": "markdown",
      "metadata": {
        "id": "i-6t7nqlOjMo"
      },
      "source": [
        "\"Write your response here\""
      ]
    },
    {
      "cell_type": "markdown",
      "metadata": {
        "id": "muXeS0eVVW6H"
      },
      "source": [
        "**QUESTION:** Display the names of the different columns in the dataset with their respective data types."
      ]
    },
    {
      "cell_type": "code",
      "execution_count": null,
      "metadata": {
        "colab": {
          "base_uri": "https://localhost:8080/"
        },
        "id": "pa9Tptu7nPMp",
        "outputId": "131cdf27-59a3-4cb4-f99d-b322e8710dd4"
      },
      "outputs": [
        {
          "output_type": "stream",
          "name": "stdout",
          "text": [
            "Noms des colonnes et leurs types respectifs :\n",
            "UDI                          int64\n",
            "Product ID                  object\n",
            "Type                        object\n",
            "Air temperature [K]        float64\n",
            "Process temperature [K]    float64\n",
            "Rotational speed [rpm]       int64\n",
            "Torque [Nm]                float64\n",
            "Tool wear [min]              int64\n",
            "Machine failure              int64\n",
            "TWF                          int64\n",
            "HDF                          int64\n",
            "PWF                          int64\n",
            "OSF                          int64\n",
            "RNF                          int64\n",
            "dtype: object\n"
          ]
        }
      ],
      "source": [
        "print(\"Noms des colonnes et leurs types respectifs :\")\n",
        "print(df.dtypes)"
      ]
    },
    {
      "cell_type": "markdown",
      "metadata": {
        "id": "cezua1bMVTCM"
      },
      "source": [
        "**ANALYSIS QUESTION:** To train the model, what will be the inputs and outputs (What are the names of the columns that you will use?)? Justify your response.\n",
        "Remember, you want to predict if the machine will fail, and if so, what kind of failure. You need to yse previous results to jsurtify your response."
      ]
    },
    {
      "cell_type": "markdown",
      "metadata": {
        "id": "0gy8oDgxbjol"
      },
      "source": [
        "\"Write your response here\""
      ]
    },
    {
      "cell_type": "markdown",
      "metadata": {
        "id": "CFXLkBzTiafx"
      },
      "source": [
        "## **2- Train model Without balancing the dataset**\n",
        "\n",
        "---\n",
        "\n"
      ]
    },
    {
      "cell_type": "markdown",
      "metadata": {
        "id": "plBeUOCKvVNU"
      },
      "source": [
        "In this section, you must build and train a model without rebalancing the dataset."
      ]
    },
    {
      "cell_type": "markdown",
      "metadata": {
        "id": "yj7CMqdVbxg2"
      },
      "source": [
        "**QUESTION:** Create X_train, Y_train, X_test, and Y_test. How many elements are present in X_train, Y_train, X_test, and Y_test? (Print the values)"
      ]
    },
    {
      "cell_type": "code",
      "execution_count": null,
      "metadata": {
        "colab": {
          "base_uri": "https://localhost:8080/"
        },
        "id": "Wdght-L8wQQQ",
        "outputId": "f112b82e-3cfa-48bb-c5d3-6eba9c7c1ce9"
      },
      "outputs": [
        {
          "output_type": "stream",
          "name": "stdout",
          "text": [
            "<class 'pandas.core.frame.DataFrame'>\n",
            "RangeIndex: 10000 entries, 0 to 9999\n",
            "Data columns (total 6 columns):\n",
            " #   Column           Non-Null Count  Dtype\n",
            "---  ------           --------------  -----\n",
            " 0   Machine failure  10000 non-null  int64\n",
            " 1   TWF              10000 non-null  int64\n",
            " 2   HDF              10000 non-null  int64\n",
            " 3   PWF              10000 non-null  int64\n",
            " 4   OSF              10000 non-null  int64\n",
            " 5   RNF              10000 non-null  int64\n",
            "dtypes: int64(6)\n",
            "memory usage: 468.9 KB\n",
            "None\n",
            "Air temperature [K]        float64\n",
            "Process temperature [K]    float64\n",
            "Rotational speed [rpm]       int64\n",
            "Torque [Nm]                float64\n",
            "Tool wear [min]              int64\n",
            "dtype: object\n",
            "Nombre d'éléments dans X_train : 8000\n",
            "Nombre d'éléments dans y_train : 8000\n",
            "Nombre d'éléments dans X_test  : 2000\n",
            "Nombre d'éléments dans y_test  : 2000\n"
          ]
        }
      ],
      "source": [
        "# Définir X et y en fonction de vos colonnes\n",
        "# Exemple : une colonne 'MachineFailure' = label binaire (0 ou 1)\n",
        "X = df[[\n",
        " 'Air temperature [K]',\n",
        " 'Process temperature [K]',\n",
        " 'Rotational speed [rpm]',\n",
        " 'Torque [Nm]',\n",
        " 'Tool wear [min]']]\n",
        "y = df[['Machine failure', 'TWF', 'HDF', 'PWF', 'OSF', 'RNF']]\n",
        "print(y.info())\n",
        "print(X.dtypes)\n",
        "\"\"\"\n",
        "X = pd.get_dummies(df[[\n",
        " 'Type',\n",
        " 'Air temperature [K]',\n",
        " 'Process temperature [K]',\n",
        " 'Rotational speed [rpm]',\n",
        " 'Torque [Nm]',\n",
        " 'Tool wear [min]']], columns=[\"Type\"], dtype=np.float32)\"\"\"\n",
        "\n",
        "\n",
        "\n",
        "# Séparation en jeu d'entraînement (train) et jeu de test (test)\n",
        "X_train, X_test, y_train, y_test = train_test_split(\n",
        "    X,\n",
        "    y,\n",
        "    test_size=0.2,    # 20% pour le test, par exemple\n",
        "    random_state=42\n",
        ")\n",
        "\n",
        "# Afficher le nombre d'éléments dans chaque ensemble\n",
        "print(f\"Nombre d'éléments dans X_train : {len(X_train)}\")\n",
        "print(f\"Nombre d'éléments dans y_train : {len(y_train)}\")\n",
        "print(f\"Nombre d'éléments dans X_test  : {len(X_test)}\")\n",
        "print(f\"Nombre d'éléments dans y_test  : {len(y_test)}\")\n",
        "\n",
        "\n"
      ]
    },
    {
      "cell_type": "markdown",
      "metadata": {
        "id": "eqBuZsqKdQ7u"
      },
      "source": [
        "**QUESTION** Code below the model architecture"
      ]
    },
    {
      "cell_type": "markdown",
      "metadata": {
        "id": "dIONoP2Jdg8Q"
      },
      "source": [
        "**QUESTION** Code below the algorithms allowing to train model\n",
        "\n",
        "**WARNING!** You need to plot the training and test accuracy and loss to check if our model is overfitting"
      ]
    },
    {
      "cell_type": "code",
      "execution_count": null,
      "metadata": {
        "colab": {
          "base_uri": "https://localhost:8080/"
        },
        "id": "vGF2i2p0dyGU",
        "outputId": "3e4bc59a-6146-4589-b193-fd6b0fafb866"
      },
      "outputs": [
        {
          "output_type": "stream",
          "name": "stdout",
          "text": [
            "Model: \"my_mlp_model\"\n",
            "_________________________________________________________________\n",
            " Layer (type)                Output Shape              Param #   \n",
            "=================================================================\n",
            " input_8 (InputLayer)        [(None, 5)]               0         \n",
            "                                                                 \n",
            " dense_35 (Dense)            (None, 20)                120       \n",
            "                                                                 \n",
            " dense_36 (Dense)            (None, 6)                 126       \n",
            "                                                                 \n",
            "=================================================================\n",
            "Total params: 246\n",
            "Trainable params: 246\n",
            "Non-trainable params: 0\n",
            "_________________________________________________________________\n",
            "Epoch 1/10\n",
            "80/80 [==============================] - 1s 6ms/step - loss: 0.5836 - binary_accuracy: 0.6474 - val_loss: 0.3389 - val_binary_accuracy: 0.9875\n",
            "Epoch 2/10\n",
            "80/80 [==============================] - 0s 4ms/step - loss: 0.2321 - binary_accuracy: 0.9880 - val_loss: 0.1616 - val_binary_accuracy: 0.9889\n",
            "Epoch 3/10\n",
            "80/80 [==============================] - 0s 4ms/step - loss: 0.1309 - binary_accuracy: 0.9879 - val_loss: 0.1074 - val_binary_accuracy: 0.9889\n",
            "Epoch 4/10\n",
            "80/80 [==============================] - 0s 4ms/step - loss: 0.0959 - binary_accuracy: 0.9879 - val_loss: 0.0851 - val_binary_accuracy: 0.9889\n",
            "Epoch 5/10\n",
            "80/80 [==============================] - 0s 4ms/step - loss: 0.0805 - binary_accuracy: 0.9879 - val_loss: 0.0743 - val_binary_accuracy: 0.9889\n",
            "Epoch 6/10\n",
            "80/80 [==============================] - 0s 4ms/step - loss: 0.0726 - binary_accuracy: 0.9879 - val_loss: 0.0683 - val_binary_accuracy: 0.9889\n",
            "Epoch 7/10\n",
            "80/80 [==============================] - 0s 4ms/step - loss: 0.0682 - binary_accuracy: 0.9879 - val_loss: 0.0648 - val_binary_accuracy: 0.9889\n",
            "Epoch 8/10\n",
            "80/80 [==============================] - 0s 3ms/step - loss: 0.0656 - binary_accuracy: 0.9879 - val_loss: 0.0625 - val_binary_accuracy: 0.9889\n",
            "Epoch 9/10\n",
            "80/80 [==============================] - 0s 2ms/step - loss: 0.0638 - binary_accuracy: 0.9879 - val_loss: 0.0611 - val_binary_accuracy: 0.9889\n",
            "Epoch 10/10\n",
            "80/80 [==============================] - 0s 3ms/step - loss: 0.0629 - binary_accuracy: 0.9879 - val_loss: 0.0599 - val_binary_accuracy: 0.9889\n",
            "80/80 [==============================] - 0s 1ms/step - loss: 0.0623 - binary_accuracy: 0.9879\n",
            "20/20 [==============================] - 0s 1ms/step - loss: 0.0599 - binary_accuracy: 0.9889\n",
            "Performance on the TRAIN set, ACCURACY= 0.9879375100135803\n",
            "Performance on the TEST set, ACCURACY= 0.98891681432724\n"
          ]
        }
      ],
      "source": [
        "# (1) DEFINE THE ARCHITECTURE OF MY MODEL\n",
        "#first, I define all the layers and the way they are connected\n",
        "inputs = tf.keras.Input(shape=(X_train.shape[1],))  # Adapter au bon nombre de colonnes\n",
        "x = tf.keras.layers.Dense(20, activation='tanh')(inputs)  # Pas besoin de Flatten\n",
        "outputs = tf.keras.layers.Dense(6, activation='sigmoid')(x)  # Multi-label -> sigmoid\n",
        "\n",
        "my_mlp_model = tf.keras.Model(inputs=inputs, outputs=outputs, name=\"my_mlp_model\")\n",
        "my_mlp_model.summary()\n",
        "\n",
        "\n",
        "# (2) DEFINE THE TRAINING HYPER-PARAMETERS WITH THE \"COMPILE\" METHOD:\n",
        "'''\n",
        "(1) Set the \"optimizer\" [pick 'adam', 'sgd' or 'rmsprop']\n",
        "(2) Set the loss [cf. lesson #3, we pick the categorical cross-entropy]\n",
        "(3) Set the final performance metric to evaluate the model\n",
        "'''\n",
        "\n",
        "my_mlp_model.compile(optimizer='adam',\n",
        "                     loss='binary_crossentropy',  # Car multi-label\n",
        "                     metrics=['binary_accuracy'])  # Ou 'accuracy' si tu veux rester dessus\n",
        "\n",
        "\n",
        "\n",
        "\n",
        "# (3) NOW, LET'S TRAIN ON MY DATA WITH THE \"FIT\" METHOD\n",
        "'''\n",
        "(1) Set the number of epochs\n",
        "(2) Set the size of the (mini)batch\n",
        "(3) Set the training dataset ==> here, X_train with Y_train\n",
        "(4) Set the validation dataset (X_val, Y_val)\n",
        "'''\n",
        "nb_epochs=10\n",
        "batch_size=100\n",
        "training_history = my_mlp_model.fit(X_train,y_train,validation_data=(X_test, y_test),epochs=nb_epochs,batch_size=batch_size)\n",
        "\n",
        "#COMPUTE THE ACCURACY ON THE TRAINING AND TEST SETS\n",
        "loss_train, acc_train = my_mlp_model.evaluate(X_train, y_train, batch_size=batch_size)\n",
        "loss_test, acc_test = my_mlp_model.evaluate(X_test, y_test, batch_size=batch_size)\n",
        "\n",
        "print(\"Performance on the TRAIN set, ACCURACY=\",acc_train)\n",
        "print(\"Performance on the TEST set, ACCURACY=\",acc_test)"
      ]
    },
    {
      "cell_type": "code",
      "execution_count": null,
      "metadata": {
        "colab": {
          "base_uri": "https://localhost:8080/"
        },
        "id": "ibMdXpIB-yBb",
        "outputId": "707e45be-9d0d-4745-870e-b28708e83b62"
      },
      "outputs": [
        {
          "name": "stdout",
          "output_type": "stream",
          "text": [
            "{'binary_accuracy': [0.6977708339691162, 0.9731460213661194, 0.9879374504089355, 0.9879374504089355, 0.9879373908042908, 0.9879375100135803, 0.9879376292228699, 0.987937331199646, 0.987937331199646, 0.9879376292228699], 'loss': [0.5759091377258301, 0.2291809320449829, 0.13158965110778809, 0.0969512015581131, 0.0815139040350914, 0.07348909229040146, 0.0690457746386528, 0.06622017174959183, 0.06446356326341629, 0.06334324926137924], 'val_binary_accuracy': [0.825083315372467, 0.98891681432724, 0.98891681432724, 0.98891681432724, 0.98891681432724, 0.98891681432724, 0.98891681432724, 0.98891681432724, 0.98891681432724, 0.98891681432724], 'val_loss': [0.3277525007724762, 0.16128341853618622, 0.10772397369146347, 0.08563882112503052, 0.07470390200614929, 0.06867346167564392, 0.0651060938835144, 0.06281481683254242, 0.06132778525352478, 0.06029617413878441]}\n"
          ]
        }
      ],
      "source": [
        "print(training_history.history)"
      ]
    },
    {
      "cell_type": "code",
      "execution_count": null,
      "metadata": {
        "id": "u9OqOXaOR1NV"
      },
      "outputs": [],
      "source": [
        "def display_training_curves(training_history):\n",
        "  # display loss\n",
        "  plt.plot(training_history.history['loss'],label='loss')\n",
        "  plt.plot(training_history.history['val_loss'], label='val_loss')\n",
        "  plt.xlabel(\"epoch\")\n",
        "  plt.legend(bbox_to_anchor=(1.05, 1), loc=2)\n",
        "  plt.show()\n",
        "  #display accuracy\n",
        "  plt.plot(training_history.history['binary_accuracy'],label='acc')\n",
        "  plt.plot(training_history.history['val_binary_accuracy'], label='val_acc')\n",
        "  plt.xlabel(\"epoch\")\n",
        "  plt.legend(bbox_to_anchor=(1.05, 1), loc=2)\n",
        "  plt.show()"
      ]
    },
    {
      "cell_type": "code",
      "execution_count": null,
      "metadata": {
        "colab": {
          "base_uri": "https://localhost:8080/",
          "height": 881
        },
        "id": "touTJT4W7pc4",
        "outputId": "47050bbc-7bbb-4ff1-afa4-1ea1b871248f"
      },
      "outputs": [
        {
          "output_type": "display_data",
          "data": {
            "text/plain": [
              "<Figure size 640x480 with 1 Axes>"
            ],
            "image/png": "[encoded data removed]"
          },
          "metadata": {}
        },
        {
          "output_type": "display_data",
          "data": {
            "text/plain": [
              "<Figure size 640x480 with 1 Axes>"
            ],
            "image/png": "[encoded data removed]"
          },
          "metadata": {}
        }
      ],
      "source": [
        "display_training_curves(training_history )"
      ]
    },
    {
      "cell_type": "markdown",
      "metadata": {
        "id": "fkgl8KjtrF2u"
      },
      "source": [
        "il est normal que on est val_acc presque à 1 car on va voir dans le report avec le recall de la classe mojoritaire, celle où ya pas d'erreur, que on est toujours à un et presque à 0 pour toutes les autres classes. En conclusion juste observer la loss et l'accuracy n'est suffisant."
      ]
    },
    {
      "cell_type": "markdown",
      "metadata": {
        "id": "yvmyHnqYpbf-"
      },
      "source": [
        "**QUESTION** Plot the confusion matrix and the classification report"
      ]
    },
    {
      "cell_type": "markdown",
      "metadata": {
        "id": "FUXSeJ1ZpsSP"
      },
      "source": [
        "**Tips:**\n",
        "\n",
        "*   classification report link\n",
        "\n",
        "> https://scikit-learn.org/stable/modules/generated/sklearn.metrics.classification_report.html\n",
        "\n",
        "*   Matrix confusion\n",
        "\n",
        "> https://scikit-learn.org/stable/modules/generated/sklearn.metrics.ConfusionMatrixDisplay.html\n",
        "\n",
        "\n",
        "\n"
      ]
    },
    {
      "cell_type": "code",
      "execution_count": null,
      "metadata": {
        "colab": {
          "base_uri": "https://localhost:8080/",
          "height": 211
        },
        "id": "m4q5wvHNnAdu",
        "outputId": "d1700d12-834f-4ac7-9cce-4327aa06e00c"
      },
      "outputs": [
        {
          "output_type": "error",
          "ename": "NameError",
          "evalue": "name 'my_mlp_model' is not defined",
          "traceback": [
            "\u001b[0;31m---------------------------------------------------------------------------\u001b[0m",
            "\u001b[0;31mNameError\u001b[0m                                 Traceback (most recent call last)",
            "\u001b[0;32m<ipython-input-5-934b5d21db19>\u001b[0m in \u001b[0;36m<cell line: 0>\u001b[0;34m()\u001b[0m\n\u001b[1;32m      4\u001b[0m \u001b[0;34m\u001b[0m\u001b[0m\n\u001b[1;32m      5\u001b[0m \u001b[0;31m# Prédictions du modèle\u001b[0m\u001b[0;34m\u001b[0m\u001b[0;34m\u001b[0m\u001b[0m\n\u001b[0;32m----> 6\u001b[0;31m \u001b[0my_pred\u001b[0m \u001b[0;34m=\u001b[0m \u001b[0mmy_mlp_model\u001b[0m\u001b[0;34m.\u001b[0m\u001b[0mpredict\u001b[0m\u001b[0;34m(\u001b[0m\u001b[0mX_test\u001b[0m\u001b[0;34m)\u001b[0m\u001b[0;34m.\u001b[0m\u001b[0mastype\u001b[0m\u001b[0;34m(\u001b[0m\u001b[0mint\u001b[0m\u001b[0;34m)\u001b[0m\u001b[0;34m\u001b[0m\u001b[0;34m\u001b[0m\u001b[0m\n\u001b[0m\u001b[1;32m      7\u001b[0m \u001b[0;31m#y_pred = (y_pred_proba >= 0.5).astype(int)\u001b[0m\u001b[0;34m\u001b[0m\u001b[0;34m\u001b[0m\u001b[0m\n\u001b[1;32m      8\u001b[0m \u001b[0;34m\u001b[0m\u001b[0m\n",
            "\u001b[0;31mNameError\u001b[0m: name 'my_mlp_model' is not defined"
          ]
        }
      ],
      "source": [
        "import numpy as np\n",
        "import matplotlib.pyplot as plt\n",
        "from sklearn.metrics import classification_report, confusion_matrix, ConfusionMatrixDisplay\n",
        "\n",
        "# Prédictions du modèle\n",
        "y_pred = my_mlp_model.predict(X_test).astype(int)\n",
        "#y_pred = (y_pred_proba >= 0.5).astype(int)\n",
        "\n",
        "# Vérification des formats\n",
        "if isinstance(y_test, pd.DataFrame):\n",
        "    y_test = y_test.values\n",
        "if isinstance(y_pred, pd.DataFrame):\n",
        "    y_pred = y_pred.values\n",
        "\n",
        "# Noms des classes\n",
        "class_names = ['Machine failure', 'TWF', 'HDF', 'PWF', 'OSF', 'RNF']\n",
        "\n",
        "# Rapport de classification\n",
        "print(\"Classification Report:\")\n",
        "print(classification_report(y_test, y_pred, target_names=class_names))\n",
        "\n",
        "# Matrices de confusion pour chaque label\n",
        "for idx, label in enumerate(class_names):\n",
        "    cm = confusion_matrix(y_test[:, idx], y_pred[:, idx])  # Ici plus d'erreur\n",
        "    disp = ConfusionMatrixDisplay(confusion_matrix=cm, display_labels=[0, 1])\n",
        "    disp.plot()\n",
        "    plt.title(f\"Confusion Matrix for {label}\")\n",
        "    plt.show()\n"
      ]
    },
    {
      "cell_type": "markdown",
      "metadata": {
        "id": "ImGsmryGkKhj"
      },
      "source": [
        "**ANALYSIS QUESTION** What do you observe? What can you conclude?"
      ]
    },
    {
      "cell_type": "markdown",
      "metadata": {
        "id": "y1f5OneQknZy"
      },
      "source": [
        "Aucune panne n'est jamais prédite car il n'y a pas assez de de données avec des erreurs machines donc il estime qu'il n'y a jamais de panne, il faut donc faire de l'undersampling pour supprimer des données sans pannes qui se ressemblent et de l'oversampling pour ajouter des données avec erreur de manière artificielle."
      ]
    },
    {
      "cell_type": "markdown",
      "metadata": {
        "id": "EYUyUAN5ji0x"
      },
      "source": [
        "## **3- Train model With balancing the dataset**\n",
        "\n",
        "---"
      ]
    },
    {
      "cell_type": "markdown",
      "metadata": {
        "id": "EQWut50JhKdD"
      },
      "source": [
        " Methods for rebalancing a dataset:\n",
        "\n",
        "\n",
        "*   Use oversampling techniques (e.g., SMOTE) to generate synthetic data for minority classes\n",
        "\n",
        "\n",
        "> https://imbalanced-learn.org/stable/references/generated/imblearn.over_sampling.SMOTE.html\n",
        "\n",
        "\n",
        "\n",
        "*   Apply undersampling techniques (e.g., random undersampling, Tomek Links, Edited Nearest Neighbors) to reduce the majority class size\n",
        "\n",
        "\n",
        "\n",
        "> https://imbalanced-learn.org/stable/references/generated/imblearn.under_sampling.RandomUnderSampler.html\n",
        "\n",
        "\n",
        "\n",
        "*   Use class weighting during model training to penalize errors on minority classes\n",
        "\n",
        "\n",
        "\n",
        "> https://www.tensorflow.org/tutorials/structured_data/imbalanced_data?hl=fr\n"
      ]
    },
    {
      "cell_type": "markdown",
      "metadata": {
        "id": "--pWJzaUnXdY"
      },
      "source": [
        "**QUESTION:** Create X_train, Y_train, X_test, and Y_test. How many elements are present in X_train, Y_train, X_test, and Y_test? (Print the values)"
      ]
    },
    {
      "cell_type": "code",
      "execution_count": null,
      "metadata": {
        "colab": {
          "base_uri": "https://localhost:8080/"
        },
        "id": "aLW74cwbdr1U",
        "outputId": "d7939e67-6836-4d17-b858-3448e9acaa04"
      },
      "outputs": [
        {
          "output_type": "stream",
          "name": "stdout",
          "text": [
            "\n",
            "📌 y shape avant SMOTE : (9976, 6)\n",
            "\n",
            "✅ SMOTE appliqué avec succès !\n",
            "\n",
            "📌 Répartition des labels après SMOTE :\n",
            "Répartition des labels après SMOTE : {0: 9652, 1: 9652, 2: 9652, 3: 9652, 4: 9652, 5: 9652}\n",
            "\n",
            "📌 Répartition des labels sur le test set :\n",
            "Répartition des labels sur le test set : {0: 1930, 1: 1930, 2: 1931, 3: 1931, 4: 1931, 5: 1930}\n"
          ]
        }
      ],
      "source": [
        "import pandas as pd\n",
        "import numpy as np\n",
        "from sklearn.model_selection import train_test_split\n",
        "from sklearn.preprocessing import OneHotEncoder\n",
        "from imblearn.over_sampling import SMOTE\n",
        "\n",
        "# ----------------------------------------------------------------\n",
        "# ÉTAPE 1 : Transformation des labels et définition des features\n",
        "# ----------------------------------------------------------------\n",
        "\n",
        "df.rename(columns={'Machine failure': 'Machine working'}, inplace=True)\n",
        "df['Machine working'] = 1 - df[['TWF', 'HDF', 'PWF', 'OSF', 'RNF']].max(axis=1)\n",
        "\n",
        "df['failure_count'] = df[['Machine working', 'TWF', 'HDF', 'PWF', 'OSF', 'RNF']].sum(axis=1)\n",
        "\n",
        "B = df[df['failure_count'] > 1]  # Données multi-labels (non utilisées ici)\n",
        "A = df[df['failure_count'] <= 1]  # Données utilisables en classification multi-classe\n",
        "\n",
        "# Définition des features (X) et labels (y)\n",
        "X = A[['Air temperature [K]', 'Process temperature [K]', 'Rotational speed [rpm]', 'Torque [Nm]', 'Tool wear [min]']]\n",
        "\n",
        "# 📌 Transformation en classification multi-classe\n",
        "y = A[['Machine working', 'TWF', 'HDF', 'PWF', 'OSF', 'RNF']].idxmax(axis=1)  # Prend la 1ère classe non-nulle\n",
        "\n",
        "# ----------------------------------------------------------------\n",
        "# Encodage One-Hot des labels\n",
        "# ----------------------------------------------------------------\n",
        "# Initialisation du OneHotEncoder\n",
        "onehot_encoder = OneHotEncoder(sparse_output=False)  # sparse=False pour avoir un tableau numpy\n",
        "y_onehot = onehot_encoder.fit_transform(y.values.reshape(-1, 1))  # On transforme y en matrice (n_samples, 1)\n",
        "\n",
        "# Conversion en np.array\n",
        "X_np = np.array(X)\n",
        "y_np = np.array(y_onehot)  # Utilisation des labels encodés en one-hot\n",
        "\n",
        "# ----------------------------------------------------------------\n",
        "# ÉTAPE 2 : Équilibrage du dataset avec SMOTE (Avant le split)\n",
        "# ----------------------------------------------------------------\n",
        "\n",
        "print(f\"\\n📌 y shape avant SMOTE : {y_np.shape}\")\n",
        "\n",
        "try:\n",
        "    smote = SMOTE(random_state=42)\n",
        "    X_res, y_res = smote.fit_resample(X_np, y_np)  # SMOTE sur tout le dataset\n",
        "    print(\"\\n✅ SMOTE appliqué avec succès !\")\n",
        "except Exception as e:\n",
        "    print(\"\\n❌ Erreur avec SMOTE :\", e)\n",
        "\n",
        "# 📌 Vérification après SMOTE\n",
        "print(\"\\n📌 Répartition des labels après SMOTE :\")\n",
        "unique, counts = np.unique(np.argmax(y_res, axis=1), return_counts=True)\n",
        "print(f\"Répartition des labels après SMOTE : {dict(zip(range(y_res.shape[1]), counts))}\")  # Utilisation des indices des classes\n",
        "\n",
        "# ----------------------------------------------------------------\n",
        "# ÉTAPE 3 : Séparation en jeu d'entraînement et test (Après SMOTE)\n",
        "# ----------------------------------------------------------------\n",
        "X_train, X_test, y_train, y_test = train_test_split(\n",
        "    X_res, y_res, test_size=0.2, random_state=42, stratify=np.argmax(y_res, axis=1)  # Stratification sur les classes\n",
        ")\n",
        "\n",
        "# ----------------------------------------------------------------\n",
        "# ÉTAPE 4 : Finalisation des données\n",
        "# ----------------------------------------------------------------\n",
        "\n",
        "# Conversion en np.array final\n",
        "X_train_final = np.array(X_train)\n",
        "y_train_final = np.array(y_train)\n",
        "X_test_final = np.array(X_test)\n",
        "y_test_final = np.array(y_test)\n",
        "\n",
        "# 📌 Vérification du test set\n",
        "print(\"\\n📌 Répartition des labels sur le test set :\")\n",
        "unique, counts = np.unique(np.argmax(y_test_final, axis=1), return_counts=True)\n",
        "print(f\"Répartition des labels sur le test set : {dict(zip(range(y_test_final.shape[1]), counts))}\")\n"
      ]
    },
    {
      "cell_type": "markdown",
      "metadata": {
        "id": "-YcZXIadnbcm"
      },
      "source": [
        "**ANALYSIS QUESTION:** Explain the choices you made to balance the dataset."
      ]
    },
    {
      "cell_type": "markdown",
      "metadata": {
        "id": "Rku3pnWxnxhI"
      },
      "source": [
        "\"Write your response here\""
      ]
    },
    {
      "cell_type": "markdown",
      "metadata": {
        "id": "BVryPCQFn4Dd"
      },
      "source": [
        "**QUESTION:** Code below the model architecture\n"
      ]
    },
    {
      "cell_type": "markdown",
      "metadata": {
        "id": "Q5BGfI7TpVDD"
      },
      "source": [
        "**TIP:** It could be interesting to keep it the same as before"
      ]
    },
    {
      "cell_type": "code",
      "execution_count": null,
      "metadata": {
        "colab": {
          "base_uri": "https://localhost:8080/"
        },
        "id": "S0UbMHN6OC51",
        "outputId": "83bc2509-a128-40b0-e17a-5328e8ae0703"
      },
      "outputs": [
        {
          "output_type": "stream",
          "name": "stdout",
          "text": [
            "X_train shape : (46329, 5), y_train shape : (46329, 6)\n",
            "X_test shape  : (11583, 5), y_test shape  : (11583, 6)\n",
            "Model: \"model_7\"\n",
            "_________________________________________________________________\n",
            " Layer (type)                Output Shape              Param #   \n",
            "=================================================================\n",
            " input_9 (InputLayer)        [(None, 5)]               0         \n",
            "                                                                 \n",
            " dense_37 (Dense)            (None, 256)               1536      \n",
            "                                                                 \n",
            " batch_normalization_28 (Bat  (None, 256)              1024      \n",
            " chNormalization)                                                \n",
            "                                                                 \n",
            " dropout_28 (Dropout)        (None, 256)               0         \n",
            "                                                                 \n",
            " dense_38 (Dense)            (None, 128)               32896     \n",
            "                                                                 \n",
            " batch_normalization_29 (Bat  (None, 128)              512       \n",
            " chNormalization)                                                \n",
            "                                                                 \n",
            " dropout_29 (Dropout)        (None, 128)               0         \n",
            "                                                                 \n",
            " dense_39 (Dense)            (None, 64)                8256      \n",
            "                                                                 \n",
            " batch_normalization_30 (Bat  (None, 64)               256       \n",
            " chNormalization)                                                \n",
            "                                                                 \n",
            " dropout_30 (Dropout)        (None, 64)                0         \n",
            "                                                                 \n",
            " dense_40 (Dense)            (None, 6)                 390       \n",
            "                                                                 \n",
            "=================================================================\n",
            "Total params: 44,870\n",
            "Trainable params: 43,974\n",
            "Non-trainable params: 896\n",
            "_________________________________________________________________\n",
            "Epoch 1/50\n",
            "724/724 [==============================] - 10s 8ms/step - loss: 1.1275 - accuracy: 0.6436 - val_loss: 1.0474 - val_accuracy: 0.6845\n",
            "Epoch 2/50\n",
            "724/724 [==============================] - 4s 6ms/step - loss: 0.7716 - accuracy: 0.7611 - val_loss: 5.0641 - val_accuracy: 0.3400\n",
            "Epoch 3/50\n",
            "724/724 [==============================] - 5s 7ms/step - loss: 0.6683 - accuracy: 0.7863 - val_loss: 1.7431 - val_accuracy: 0.5610\n",
            "Epoch 4/50\n",
            "724/724 [==============================] - 4s 5ms/step - loss: 0.6125 - accuracy: 0.7981 - val_loss: 2.3342 - val_accuracy: 0.5514\n",
            "Epoch 5/50\n",
            "724/724 [==============================] - 5s 6ms/step - loss: 0.5764 - accuracy: 0.8031 - val_loss: 3.0773 - val_accuracy: 0.4326\n",
            "Epoch 6/50\n",
            "724/724 [==============================] - 5s 6ms/step - loss: 0.5556 - accuracy: 0.8089 - val_loss: 3.8414 - val_accuracy: 0.3632\n",
            "724/724 [==============================] - 1s 2ms/step - loss: 1.0370 - accuracy: 0.6843\n",
            "181/181 [==============================] - 0s 2ms/step - loss: 1.0474 - accuracy: 0.6845\n",
            "✅ Performance on the TRAIN set, ACCURACY = 0.6843014359474182\n",
            "✅ Performance on the TEST set, ACCURACY = 0.6844513416290283\n"
          ]
        }
      ],
      "source": [
        "import tensorflow as tf\n",
        "import numpy as np\n",
        "\n",
        "# Conversion en np.array (avec type forcé pour éviter les erreurs)\n",
        "X_train_np = np.array(X_train_final, dtype=np.float32)  # Features\n",
        "y_train_np = np.array(y_train_final, dtype=np.float32)  # Labels encodés en one-hot\n",
        "X_test_np = np.array(X_test_final, dtype=np.float32)\n",
        "y_test_np = np.array(y_test_final, dtype=np.float32)\n",
        "\n",
        "# Vérification des formes\n",
        "print(f\"X_train shape : {X_train_np.shape}, y_train shape : {y_train_np.shape}\")\n",
        "print(f\"X_test shape  : {X_test_np.shape}, y_test shape  : {y_test_np.shape}\")\n",
        "\n",
        "# Création du modèle MLP\n",
        "inputs = tf.keras.Input(shape=(5,))  # 5 features\n",
        "\n",
        "# Première couche dense + BatchNorm + Dropout\n",
        "x = tf.keras.layers.Dense(256, activation='relu', kernel_regularizer=tf.keras.regularizers.l2(0.001))(inputs)\n",
        "x = tf.keras.layers.BatchNormalization()(x)\n",
        "x = tf.keras.layers.Dropout(0.5)(x)  # Augmenté pour éviter overfitting\n",
        "\n",
        "# Deuxième couche dense + BatchNorm + Dropout\n",
        "x = tf.keras.layers.Dense(128, activation='relu', kernel_regularizer=tf.keras.regularizers.l2(0.001))(x)\n",
        "x = tf.keras.layers.BatchNormalization()(x)\n",
        "x = tf.keras.layers.Dropout(0.5)(x)\n",
        "\n",
        "# Troisième couche dense + BatchNorm + Dropout\n",
        "x = tf.keras.layers.Dense(64, activation='relu', kernel_regularizer=tf.keras.regularizers.l2(0.001))(x)\n",
        "x = tf.keras.layers.BatchNormalization()(x)\n",
        "x = tf.keras.layers.Dropout(0.5)(x)\n",
        "\n",
        "# Sortie pour la classification multi-classe (6 classes)\n",
        "outputs = tf.keras.layers.Dense(6, activation='softmax')(x)\n",
        "\n",
        "# Création du modèle\n",
        "my_mlp_model = tf.keras.Model(inputs=inputs, outputs=outputs)\n",
        "\n",
        "# Affichage du résumé du modèle\n",
        "my_mlp_model.summary()\n",
        "\n",
        "# Compilation du modèle avec l'optimiseur Adam\n",
        "my_mlp_model.compile(\n",
        "    optimizer=tf.keras.optimizers.Adam(learning_rate=0.001),  # Utilisation d'Adam avec un taux d'apprentissage plus petit\n",
        "    loss='categorical_crossentropy',  # Utilisation pour labels encodés en one-hot\n",
        "    metrics=['accuracy']\n",
        ")\n",
        "\n",
        "# Ajout d'un Early Stopping pour éviter l'overfitting\n",
        "early_stopping = tf.keras.callbacks.EarlyStopping(\n",
        "    monitor=\"val_loss\", patience=5, restore_best_weights=True\n",
        ")\n",
        "\n",
        "# Entraînement du modèle\n",
        "nb_epochs = 50  # Augmenté pour améliorer l'apprentissage\n",
        "batch_size = 64\n",
        "training_history = my_mlp_model.fit(\n",
        "    X_train_np, y_train_np,\n",
        "    validation_data=(X_test_np, y_test_np),\n",
        "    epochs=nb_epochs,\n",
        "    batch_size=batch_size,\n",
        "    callbacks=[early_stopping]  # Activation de l'early stopping\n",
        ")\n",
        "\n",
        "# Évaluation du modèle\n",
        "loss_train, acc_train = my_mlp_model.evaluate(X_train_np, y_train_np, batch_size=batch_size)\n",
        "loss_test, acc_test = my_mlp_model.evaluate(X_test_np, y_test_np, batch_size=batch_size)\n",
        "\n",
        "print(\"✅ Performance on the TRAIN set, ACCURACY =\", acc_train)\n",
        "print(\"✅ Performance on the TEST set, ACCURACY =\", acc_test)\n"
      ]
    },
    {
      "cell_type": "markdown",
      "metadata": {
        "id": "wBZyS7DdofFq"
      },
      "source": [
        "**QUESTION** Code below the algorithms allowing to train model\n"
      ]
    },
    {
      "cell_type": "code",
      "execution_count": null,
      "metadata": {
        "id": "kv138ClyyGWl"
      },
      "outputs": [],
      "source": [
        "def display_training_curves(training_history):\n",
        "  # display loss\n",
        "  plt.plot(training_history.history['loss'],label='loss')\n",
        "  plt.plot(training_history.history['val_loss'], label='val_loss')\n",
        "  plt.xlabel(\"epoch\")\n",
        "  plt.legend(bbox_to_anchor=(1.05, 1), loc=2)\n",
        "  plt.show()\n",
        "  #display accuracy\n",
        "  plt.plot(training_history.history['accuracy'],label='acc')\n",
        "  plt.plot(training_history.history['val_accuracy'], label='val_acc')\n",
        "  plt.xlabel(\"epoch\")\n",
        "  plt.legend(bbox_to_anchor=(1.05, 1), loc=2)\n",
        "  plt.show()"
      ]
    },
    {
      "cell_type": "code",
      "execution_count": null,
      "metadata": {
        "colab": {
          "base_uri": "https://localhost:8080/",
          "height": 881
        },
        "id": "my6Ck5JbMDOG",
        "outputId": "f089b2c5-1e13-4429-f5ad-64c1ee119372"
      },
      "outputs": [
        {
          "output_type": "display_data",
          "data": {
            "text/plain": [
              "<Figure size 640x480 with 1 Axes>"
            ],
            "image/png": "[encoded data removed]"
          },
          "metadata": {}
        },
        {
          "output_type": "display_data",
          "data": {
            "text/plain": [
              "<Figure size 640x480 with 1 Axes>"
            ],
            "image/png": "[encoded data removed]"
          },
          "metadata": {}
        }
      ],
      "source": [
        "display_training_curves(training_history)"
      ]
    },
    {
      "cell_type": "markdown",
      "metadata": {
        "id": "77ftkfv5oqp0"
      },
      "source": [
        "**QUESTION** Plot the confusion matrix and the classification report"
      ]
    },
    {
      "cell_type": "code",
      "source": [
        "!pip install tensorflow===2.12.0"
      ],
      "metadata": {
        "colab": {
          "base_uri": "https://localhost:8080/"
        },
        "id": "3Ug4-B79xVfD",
        "outputId": "f59f896e-3844-4f6f-ea0a-096c49aecf29"
      },
      "execution_count": null,
      "outputs": [
        {
          "output_type": "stream",
          "name": "stdout",
          "text": [
            "Requirement already satisfied: tensorflow===2.12.0 in /usr/local/lib/python3.11/dist-packages (2.12.0)\n",
            "Requirement already satisfied: absl-py>=1.0.0 in /usr/local/lib/python3.11/dist-packages (from tensorflow===2.12.0) (1.4.0)\n",
            "Requirement already satisfied: astunparse>=1.6.0 in /usr/local/lib/python3.11/dist-packages (from tensorflow===2.12.0) (1.6.3)\n",
            "Requirement already satisfied: flatbuffers>=2.0 in /usr/local/lib/python3.11/dist-packages (from tensorflow===2.12.0) (25.2.10)\n",
            "Requirement already satisfied: gast<=0.4.0,>=0.2.1 in /usr/local/lib/python3.11/dist-packages (from tensorflow===2.12.0) (0.4.0)\n",
            "Requirement already satisfied: google-pasta>=0.1.1 in /usr/local/lib/python3.11/dist-packages (from tensorflow===2.12.0) (0.2.0)\n",
            "Requirement already satisfied: grpcio<2.0,>=1.24.3 in /usr/local/lib/python3.11/dist-packages (from tensorflow===2.12.0) (1.71.0)\n",
            "Requirement already satisfied: h5py>=2.9.0 in /usr/local/lib/python3.11/dist-packages (from tensorflow===2.12.0) (3.13.0)\n",
            "Requirement already satisfied: jax>=0.3.15 in /usr/local/lib/python3.11/dist-packages (from tensorflow===2.12.0) (0.4.30)\n",
            "Requirement already satisfied: keras<2.13,>=2.12.0 in /usr/local/lib/python3.11/dist-packages (from tensorflow===2.12.0) (2.12.0)\n",
            "Requirement already satisfied: libclang>=13.0.0 in /usr/local/lib/python3.11/dist-packages (from tensorflow===2.12.0) (18.1.1)\n",
            "Requirement already satisfied: numpy<1.24,>=1.22 in /usr/local/lib/python3.11/dist-packages (from tensorflow===2.12.0) (1.23.5)\n",
            "Requirement already satisfied: opt-einsum>=2.3.2 in /usr/local/lib/python3.11/dist-packages (from tensorflow===2.12.0) (3.4.0)\n",
            "Requirement already satisfied: packaging in /usr/local/lib/python3.11/dist-packages (from tensorflow===2.12.0) (24.2)\n",
            "Requirement already satisfied: protobuf!=4.21.0,!=4.21.1,!=4.21.2,!=4.21.3,!=4.21.4,!=4.21.5,<5.0.0dev,>=3.20.3 in /usr/local/lib/python3.11/dist-packages (from tensorflow===2.12.0) (4.25.6)\n",
            "Requirement already satisfied: setuptools in /usr/local/lib/python3.11/dist-packages (from tensorflow===2.12.0) (75.1.0)\n",
            "Requirement already satisfied: six>=1.12.0 in /usr/local/lib/python3.11/dist-packages (from tensorflow===2.12.0) (1.17.0)\n",
            "Requirement already satisfied: tensorboard<2.13,>=2.12 in /usr/local/lib/python3.11/dist-packages (from tensorflow===2.12.0) (2.12.3)\n",
            "Requirement already satisfied: tensorflow-estimator<2.13,>=2.12.0 in /usr/local/lib/python3.11/dist-packages (from tensorflow===2.12.0) (2.12.0)\n",
            "Requirement already satisfied: termcolor>=1.1.0 in /usr/local/lib/python3.11/dist-packages (from tensorflow===2.12.0) (2.5.0)\n",
            "Requirement already satisfied: typing-extensions>=3.6.6 in /usr/local/lib/python3.11/dist-packages (from tensorflow===2.12.0) (4.12.2)\n",
            "Requirement already satisfied: wrapt<1.15,>=1.11.0 in /usr/local/lib/python3.11/dist-packages (from tensorflow===2.12.0) (1.14.1)\n",
            "Requirement already satisfied: tensorflow-io-gcs-filesystem>=0.23.1 in /usr/local/lib/python3.11/dist-packages (from tensorflow===2.12.0) (0.37.1)\n",
            "Requirement already satisfied: wheel<1.0,>=0.23.0 in /usr/local/lib/python3.11/dist-packages (from astunparse>=1.6.0->tensorflow===2.12.0) (0.45.1)\n",
            "Requirement already satisfied: jaxlib<=0.4.30,>=0.4.27 in /usr/local/lib/python3.11/dist-packages (from jax>=0.3.15->tensorflow===2.12.0) (0.4.30)\n",
            "Requirement already satisfied: ml-dtypes>=0.2.0 in /usr/local/lib/python3.11/dist-packages (from jax>=0.3.15->tensorflow===2.12.0) (0.4.1)\n",
            "Requirement already satisfied: scipy>=1.9 in /usr/local/lib/python3.11/dist-packages (from jax>=0.3.15->tensorflow===2.12.0) (1.14.1)\n",
            "Requirement already satisfied: google-auth<3,>=1.6.3 in /usr/local/lib/python3.11/dist-packages (from tensorboard<2.13,>=2.12->tensorflow===2.12.0) (2.38.0)\n",
            "Requirement already satisfied: google-auth-oauthlib<1.1,>=0.5 in /usr/local/lib/python3.11/dist-packages (from tensorboard<2.13,>=2.12->tensorflow===2.12.0) (1.0.0)\n",
            "Requirement already satisfied: markdown>=2.6.8 in /usr/local/lib/python3.11/dist-packages (from tensorboard<2.13,>=2.12->tensorflow===2.12.0) (3.7)\n",
            "Requirement already satisfied: requests<3,>=2.21.0 in /usr/local/lib/python3.11/dist-packages (from tensorboard<2.13,>=2.12->tensorflow===2.12.0) (2.32.3)\n",
            "Requirement already satisfied: tensorboard-data-server<0.8.0,>=0.7.0 in /usr/local/lib/python3.11/dist-packages (from tensorboard<2.13,>=2.12->tensorflow===2.12.0) (0.7.2)\n",
            "Requirement already satisfied: werkzeug>=1.0.1 in /usr/local/lib/python3.11/dist-packages (from tensorboard<2.13,>=2.12->tensorflow===2.12.0) (3.1.3)\n",
            "Requirement already satisfied: cachetools<6.0,>=2.0.0 in /usr/local/lib/python3.11/dist-packages (from google-auth<3,>=1.6.3->tensorboard<2.13,>=2.12->tensorflow===2.12.0) (5.5.2)\n",
            "Requirement already satisfied: pyasn1-modules>=0.2.1 in /usr/local/lib/python3.11/dist-packages (from google-auth<3,>=1.6.3->tensorboard<2.13,>=2.12->tensorflow===2.12.0) (0.4.1)\n",
            "Requirement already satisfied: rsa<5,>=3.1.4 in /usr/local/lib/python3.11/dist-packages (from google-auth<3,>=1.6.3->tensorboard<2.13,>=2.12->tensorflow===2.12.0) (4.9)\n",
            "Requirement already satisfied: requests-oauthlib>=0.7.0 in /usr/local/lib/python3.11/dist-packages (from google-auth-oauthlib<1.1,>=0.5->tensorboard<2.13,>=2.12->tensorflow===2.12.0) (2.0.0)\n",
            "Requirement already satisfied: charset-normalizer<4,>=2 in /usr/local/lib/python3.11/dist-packages (from requests<3,>=2.21.0->tensorboard<2.13,>=2.12->tensorflow===2.12.0) (3.4.1)\n",
            "Requirement already satisfied: idna<4,>=2.5 in /usr/local/lib/python3.11/dist-packages (from requests<3,>=2.21.0->tensorboard<2.13,>=2.12->tensorflow===2.12.0) (3.10)\n",
            "Requirement already satisfied: urllib3<3,>=1.21.1 in /usr/local/lib/python3.11/dist-packages (from requests<3,>=2.21.0->tensorboard<2.13,>=2.12->tensorflow===2.12.0) (2.3.0)\n",
            "Requirement already satisfied: certifi>=2017.4.17 in /usr/local/lib/python3.11/dist-packages (from requests<3,>=2.21.0->tensorboard<2.13,>=2.12->tensorflow===2.12.0) (2025.1.31)\n",
            "Requirement already satisfied: MarkupSafe>=2.1.1 in /usr/local/lib/python3.11/dist-packages (from werkzeug>=1.0.1->tensorboard<2.13,>=2.12->tensorflow===2.12.0) (3.0.2)\n",
            "Requirement already satisfied: pyasn1<0.7.0,>=0.4.6 in /usr/local/lib/python3.11/dist-packages (from pyasn1-modules>=0.2.1->google-auth<3,>=1.6.3->tensorboard<2.13,>=2.12->tensorflow===2.12.0) (0.6.1)\n",
            "Requirement already satisfied: oauthlib>=3.0.0 in /usr/local/lib/python3.11/dist-packages (from requests-oauthlib>=0.7.0->google-auth-oauthlib<1.1,>=0.5->tensorboard<2.13,>=2.12->tensorflow===2.12.0) (3.2.2)\n"
          ]
        }
      ]
    },
    {
      "cell_type": "code",
      "execution_count": null,
      "metadata": {
        "colab": {
          "base_uri": "https://localhost:8080/",
          "height": 1000
        },
        "id": "kRmkOI_co5d9",
        "outputId": "61e30102-8620-4f2b-dc8b-7b81e27dec63"
      },
      "outputs": [
        {
          "output_type": "stream",
          "name": "stdout",
          "text": [
            "\n",
            "📌 y shape avant SMOTE : (7984, 5)\n",
            "Répartition des classes avant SMOTE : Counter({0: 7729, 2: 91, 3: 66, 4: 65, 1: 33})\n",
            "Répartition des classes après sous-échantillonnage : Counter({2: 91, 3: 66, 4: 65, 0: 33, 1: 33})\n",
            "[[1. 0. 0. 0. 0.]\n",
            " [1. 0. 0. 0. 0.]\n",
            " [1. 0. 0. 0. 0.]\n",
            " ...\n",
            " [0. 0. 0. 0. 1.]\n",
            " [0. 0. 0. 0. 1.]\n",
            " [0. 0. 0. 0. 1.]]\n",
            "\n",
            "✅ SMOTE appliqué avec succès !\n",
            "\n",
            "📌 Répartition des labels après SMOTE :\n",
            "{0: 91, 1: 91, 2: 91, 3: 91, 4: 91}\n",
            "\n",
            "📌 Formes après concaténation :\n",
            "X_train_final shape : (471, 5)\n",
            "y_train_final shape : (471, 5)\n",
            "X_train shape : (471, 5), y_train shape : (471, 5)\n",
            "X_test shape  : (2000, 5), y_test shape  : (2000, 5)\n"
          ]
        },
        {
          "output_type": "stream",
          "name": "stderr",
          "text": [
            "/usr/local/lib/python3.11/dist-packages/sklearn/utils/validation.py:2732: UserWarning: X has feature names, but StandardScaler was fitted without feature names\n",
            "  warnings.warn(\n"
          ]
        },
        {
          "output_type": "display_data",
          "data": {
            "text/plain": [
              "\u001b[1mModel: \"functional_7\"\u001b[0m\n"
            ],
            "text/html": [
              "<pre style=\"white-space:pre;overflow-x:auto;line-height:normal;font-family:Menlo,'DejaVu Sans Mono',consolas,'Courier New',monospace\"><span style=\"font-weight: bold\">Model: \"functional_7\"</span>\n",
              "</pre>\n"
            ]
          },
          "metadata": {}
        },
        {
          "output_type": "display_data",
          "data": {
            "text/plain": [
              "┏━━━━━━━━━━━━━━━━━━━━━━━━━━━━━━━━━━━━━━┳━━━━━━━━━━━━━━━━━━━━━━━━━━━━━┳━━━━━━━━━━━━━━━━━┓\n",
              "┃\u001b[1m \u001b[0m\u001b[1mLayer (type)                        \u001b[0m\u001b[1m \u001b[0m┃\u001b[1m \u001b[0m\u001b[1mOutput Shape               \u001b[0m\u001b[1m \u001b[0m┃\u001b[1m \u001b[0m\u001b[1m        Param #\u001b[0m\u001b[1m \u001b[0m┃\n",
              "┡━━━━━━━━━━━━━━━━━━━━━━━━━━━━━━━━━━━━━━╇━━━━━━━━━━━━━━━━━━━━━━━━━━━━━╇━━━━━━━━━━━━━━━━━┩\n",
              "│ input_layer_7 (\u001b[38;5;33mInputLayer\u001b[0m)           │ (\u001b[38;5;45mNone\u001b[0m, \u001b[38;5;34m5\u001b[0m)                   │               \u001b[38;5;34m0\u001b[0m │\n",
              "├──────────────────────────────────────┼─────────────────────────────┼─────────────────┤\n",
              "│ dense_35 (\u001b[38;5;33mDense\u001b[0m)                     │ (\u001b[38;5;45mNone\u001b[0m, \u001b[38;5;34m128\u001b[0m)                 │             \u001b[38;5;34m768\u001b[0m │\n",
              "├──────────────────────────────────────┼─────────────────────────────┼─────────────────┤\n",
              "│ batch_normalization_28               │ (\u001b[38;5;45mNone\u001b[0m, \u001b[38;5;34m128\u001b[0m)                 │             \u001b[38;5;34m512\u001b[0m │\n",
              "│ (\u001b[38;5;33mBatchNormalization\u001b[0m)                 │                             │                 │\n",
              "├──────────────────────────────────────┼─────────────────────────────┼─────────────────┤\n",
              "│ dropout_28 (\u001b[38;5;33mDropout\u001b[0m)                 │ (\u001b[38;5;45mNone\u001b[0m, \u001b[38;5;34m128\u001b[0m)                 │               \u001b[38;5;34m0\u001b[0m │\n",
              "├──────────────────────────────────────┼─────────────────────────────┼─────────────────┤\n",
              "│ dense_36 (\u001b[38;5;33mDense\u001b[0m)                     │ (\u001b[38;5;45mNone\u001b[0m, \u001b[38;5;34m64\u001b[0m)                  │           \u001b[38;5;34m8,256\u001b[0m │\n",
              "├──────────────────────────────────────┼─────────────────────────────┼─────────────────┤\n",
              "│ batch_normalization_29               │ (\u001b[38;5;45mNone\u001b[0m, \u001b[38;5;34m64\u001b[0m)                  │             \u001b[38;5;34m256\u001b[0m │\n",
              "│ (\u001b[38;5;33mBatchNormalization\u001b[0m)                 │                             │                 │\n",
              "├──────────────────────────────────────┼─────────────────────────────┼─────────────────┤\n",
              "│ dropout_29 (\u001b[38;5;33mDropout\u001b[0m)                 │ (\u001b[38;5;45mNone\u001b[0m, \u001b[38;5;34m64\u001b[0m)                  │               \u001b[38;5;34m0\u001b[0m │\n",
              "├──────────────────────────────────────┼─────────────────────────────┼─────────────────┤\n",
              "│ dense_37 (\u001b[38;5;33mDense\u001b[0m)                     │ (\u001b[38;5;45mNone\u001b[0m, \u001b[38;5;34m32\u001b[0m)                  │           \u001b[38;5;34m2,080\u001b[0m │\n",
              "├──────────────────────────────────────┼─────────────────────────────┼─────────────────┤\n",
              "│ batch_normalization_30               │ (\u001b[38;5;45mNone\u001b[0m, \u001b[38;5;34m32\u001b[0m)                  │             \u001b[38;5;34m128\u001b[0m │\n",
              "│ (\u001b[38;5;33mBatchNormalization\u001b[0m)                 │                             │                 │\n",
              "├──────────────────────────────────────┼─────────────────────────────┼─────────────────┤\n",
              "│ dropout_30 (\u001b[38;5;33mDropout\u001b[0m)                 │ (\u001b[38;5;45mNone\u001b[0m, \u001b[38;5;34m32\u001b[0m)                  │               \u001b[38;5;34m0\u001b[0m │\n",
              "├──────────────────────────────────────┼─────────────────────────────┼─────────────────┤\n",
              "│ dense_38 (\u001b[38;5;33mDense\u001b[0m)                     │ (\u001b[38;5;45mNone\u001b[0m, \u001b[38;5;34m32\u001b[0m)                  │           \u001b[38;5;34m1,056\u001b[0m │\n",
              "├──────────────────────────────────────┼─────────────────────────────┼─────────────────┤\n",
              "│ batch_normalization_31               │ (\u001b[38;5;45mNone\u001b[0m, \u001b[38;5;34m32\u001b[0m)                  │             \u001b[38;5;34m128\u001b[0m │\n",
              "│ (\u001b[38;5;33mBatchNormalization\u001b[0m)                 │                             │                 │\n",
              "├──────────────────────────────────────┼─────────────────────────────┼─────────────────┤\n",
              "│ dropout_31 (\u001b[38;5;33mDropout\u001b[0m)                 │ (\u001b[38;5;45mNone\u001b[0m, \u001b[38;5;34m32\u001b[0m)                  │               \u001b[38;5;34m0\u001b[0m │\n",
              "├──────────────────────────────────────┼─────────────────────────────┼─────────────────┤\n",
              "│ dense_39 (\u001b[38;5;33mDense\u001b[0m)                     │ (\u001b[38;5;45mNone\u001b[0m, \u001b[38;5;34m5\u001b[0m)                   │             \u001b[38;5;34m165\u001b[0m │\n",
              "└──────────────────────────────────────┴─────────────────────────────┴─────────────────┘\n"
            ],
            "text/html": [
              "<pre style=\"white-space:pre;overflow-x:auto;line-height:normal;font-family:Menlo,'DejaVu Sans Mono',consolas,'Courier New',monospace\">┏━━━━━━━━━━━━━━━━━━━━━━━━━━━━━━━━━━━━━━┳━━━━━━━━━━━━━━━━━━━━━━━━━━━━━┳━━━━━━━━━━━━━━━━━┓\n",
              "┃<span style=\"font-weight: bold\"> Layer (type)                         </span>┃<span style=\"font-weight: bold\"> Output Shape                </span>┃<span style=\"font-weight: bold\">         Param # </span>┃\n",
              "┡━━━━━━━━━━━━━━━━━━━━━━━━━━━━━━━━━━━━━━╇━━━━━━━━━━━━━━━━━━━━━━━━━━━━━╇━━━━━━━━━━━━━━━━━┩\n",
              "│ input_layer_7 (<span style=\"color: #0087ff; text-decoration-color: #0087ff\">InputLayer</span>)           │ (<span style=\"color: #00d7ff; text-decoration-color: #00d7ff\">None</span>, <span style=\"color: #00af00; text-decoration-color: #00af00\">5</span>)                   │               <span style=\"color: #00af00; text-decoration-color: #00af00\">0</span> │\n",
              "├──────────────────────────────────────┼─────────────────────────────┼─────────────────┤\n",
              "│ dense_35 (<span style=\"color: #0087ff; text-decoration-color: #0087ff\">Dense</span>)                     │ (<span style=\"color: #00d7ff; text-decoration-color: #00d7ff\">None</span>, <span style=\"color: #00af00; text-decoration-color: #00af00\">128</span>)                 │             <span style=\"color: #00af00; text-decoration-color: #00af00\">768</span> │\n",
              "├──────────────────────────────────────┼─────────────────────────────┼─────────────────┤\n",
              "│ batch_normalization_28               │ (<span style=\"color: #00d7ff; text-decoration-color: #00d7ff\">None</span>, <span style=\"color: #00af00; text-decoration-color: #00af00\">128</span>)                 │             <span style=\"color: #00af00; text-decoration-color: #00af00\">512</span> │\n",
              "│ (<span style=\"color: #0087ff; text-decoration-color: #0087ff\">BatchNormalization</span>)                 │                             │                 │\n",
              "├──────────────────────────────────────┼─────────────────────────────┼─────────────────┤\n",
              "│ dropout_28 (<span style=\"color: #0087ff; text-decoration-color: #0087ff\">Dropout</span>)                 │ (<span style=\"color: #00d7ff; text-decoration-color: #00d7ff\">None</span>, <span style=\"color: #00af00; text-decoration-color: #00af00\">128</span>)                 │               <span style=\"color: #00af00; text-decoration-color: #00af00\">0</span> │\n",
              "├──────────────────────────────────────┼─────────────────────────────┼─────────────────┤\n",
              "│ dense_36 (<span style=\"color: #0087ff; text-decoration-color: #0087ff\">Dense</span>)                     │ (<span style=\"color: #00d7ff; text-decoration-color: #00d7ff\">None</span>, <span style=\"color: #00af00; text-decoration-color: #00af00\">64</span>)                  │           <span style=\"color: #00af00; text-decoration-color: #00af00\">8,256</span> │\n",
              "├──────────────────────────────────────┼─────────────────────────────┼─────────────────┤\n",
              "│ batch_normalization_29               │ (<span style=\"color: #00d7ff; text-decoration-color: #00d7ff\">None</span>, <span style=\"color: #00af00; text-decoration-color: #00af00\">64</span>)                  │             <span style=\"color: #00af00; text-decoration-color: #00af00\">256</span> │\n",
              "│ (<span style=\"color: #0087ff; text-decoration-color: #0087ff\">BatchNormalization</span>)                 │                             │                 │\n",
              "├──────────────────────────────────────┼─────────────────────────────┼─────────────────┤\n",
              "│ dropout_29 (<span style=\"color: #0087ff; text-decoration-color: #0087ff\">Dropout</span>)                 │ (<span style=\"color: #00d7ff; text-decoration-color: #00d7ff\">None</span>, <span style=\"color: #00af00; text-decoration-color: #00af00\">64</span>)                  │               <span style=\"color: #00af00; text-decoration-color: #00af00\">0</span> │\n",
              "├──────────────────────────────────────┼─────────────────────────────┼─────────────────┤\n",
              "│ dense_37 (<span style=\"color: #0087ff; text-decoration-color: #0087ff\">Dense</span>)                     │ (<span style=\"color: #00d7ff; text-decoration-color: #00d7ff\">None</span>, <span style=\"color: #00af00; text-decoration-color: #00af00\">32</span>)                  │           <span style=\"color: #00af00; text-decoration-color: #00af00\">2,080</span> │\n",
              "├──────────────────────────────────────┼─────────────────────────────┼─────────────────┤\n",
              "│ batch_normalization_30               │ (<span style=\"color: #00d7ff; text-decoration-color: #00d7ff\">None</span>, <span style=\"color: #00af00; text-decoration-color: #00af00\">32</span>)                  │             <span style=\"color: #00af00; text-decoration-color: #00af00\">128</span> │\n",
              "│ (<span style=\"color: #0087ff; text-decoration-color: #0087ff\">BatchNormalization</span>)                 │                             │                 │\n",
              "├──────────────────────────────────────┼─────────────────────────────┼─────────────────┤\n",
              "│ dropout_30 (<span style=\"color: #0087ff; text-decoration-color: #0087ff\">Dropout</span>)                 │ (<span style=\"color: #00d7ff; text-decoration-color: #00d7ff\">None</span>, <span style=\"color: #00af00; text-decoration-color: #00af00\">32</span>)                  │               <span style=\"color: #00af00; text-decoration-color: #00af00\">0</span> │\n",
              "├──────────────────────────────────────┼─────────────────────────────┼─────────────────┤\n",
              "│ dense_38 (<span style=\"color: #0087ff; text-decoration-color: #0087ff\">Dense</span>)                     │ (<span style=\"color: #00d7ff; text-decoration-color: #00d7ff\">None</span>, <span style=\"color: #00af00; text-decoration-color: #00af00\">32</span>)                  │           <span style=\"color: #00af00; text-decoration-color: #00af00\">1,056</span> │\n",
              "├──────────────────────────────────────┼─────────────────────────────┼─────────────────┤\n",
              "│ batch_normalization_31               │ (<span style=\"color: #00d7ff; text-decoration-color: #00d7ff\">None</span>, <span style=\"color: #00af00; text-decoration-color: #00af00\">32</span>)                  │             <span style=\"color: #00af00; text-decoration-color: #00af00\">128</span> │\n",
              "│ (<span style=\"color: #0087ff; text-decoration-color: #0087ff\">BatchNormalization</span>)                 │                             │                 │\n",
              "├──────────────────────────────────────┼─────────────────────────────┼─────────────────┤\n",
              "│ dropout_31 (<span style=\"color: #0087ff; text-decoration-color: #0087ff\">Dropout</span>)                 │ (<span style=\"color: #00d7ff; text-decoration-color: #00d7ff\">None</span>, <span style=\"color: #00af00; text-decoration-color: #00af00\">32</span>)                  │               <span style=\"color: #00af00; text-decoration-color: #00af00\">0</span> │\n",
              "├──────────────────────────────────────┼─────────────────────────────┼─────────────────┤\n",
              "│ dense_39 (<span style=\"color: #0087ff; text-decoration-color: #0087ff\">Dense</span>)                     │ (<span style=\"color: #00d7ff; text-decoration-color: #00d7ff\">None</span>, <span style=\"color: #00af00; text-decoration-color: #00af00\">5</span>)                   │             <span style=\"color: #00af00; text-decoration-color: #00af00\">165</span> │\n",
              "└──────────────────────────────────────┴─────────────────────────────┴─────────────────┘\n",
              "</pre>\n"
            ]
          },
          "metadata": {}
        },
        {
          "output_type": "display_data",
          "data": {
            "text/plain": [
              "\u001b[1m Total params: \u001b[0m\u001b[38;5;34m13,349\u001b[0m (52.14 KB)\n"
            ],
            "text/html": [
              "<pre style=\"white-space:pre;overflow-x:auto;line-height:normal;font-family:Menlo,'DejaVu Sans Mono',consolas,'Courier New',monospace\"><span style=\"font-weight: bold\"> Total params: </span><span style=\"color: #00af00; text-decoration-color: #00af00\">13,349</span> (52.14 KB)\n",
              "</pre>\n"
            ]
          },
          "metadata": {}
        },
        {
          "output_type": "display_data",
          "data": {
            "text/plain": [
              "\u001b[1m Trainable params: \u001b[0m\u001b[38;5;34m12,837\u001b[0m (50.14 KB)\n"
            ],
            "text/html": [
              "<pre style=\"white-space:pre;overflow-x:auto;line-height:normal;font-family:Menlo,'DejaVu Sans Mono',consolas,'Courier New',monospace\"><span style=\"font-weight: bold\"> Trainable params: </span><span style=\"color: #00af00; text-decoration-color: #00af00\">12,837</span> (50.14 KB)\n",
              "</pre>\n"
            ]
          },
          "metadata": {}
        },
        {
          "output_type": "display_data",
          "data": {
            "text/plain": [
              "\u001b[1m Non-trainable params: \u001b[0m\u001b[38;5;34m512\u001b[0m (2.00 KB)\n"
            ],
            "text/html": [
              "<pre style=\"white-space:pre;overflow-x:auto;line-height:normal;font-family:Menlo,'DejaVu Sans Mono',consolas,'Courier New',monospace\"><span style=\"font-weight: bold\"> Non-trainable params: </span><span style=\"color: #00af00; text-decoration-color: #00af00\">512</span> (2.00 KB)\n",
              "</pre>\n"
            ]
          },
          "metadata": {}
        },
        {
          "output_type": "stream",
          "name": "stdout",
          "text": [
            "Epoch 1/50\n",
            "\u001b[1m8/8\u001b[0m \u001b[32m━━━━━━━━━━━━━━━━━━━━\u001b[0m\u001b[37m\u001b[0m \u001b[1m5s\u001b[0m 97ms/step - binary_accuracy: 0.4857 - loss: 1.1280 - val_binary_accuracy: 0.2488 - val_loss: 4.3155\n",
            "Epoch 2/50\n",
            "\u001b[1m8/8\u001b[0m \u001b[32m━━━━━━━━━━━━━━━━━━━━\u001b[0m\u001b[37m\u001b[0m \u001b[1m1s\u001b[0m 24ms/step - binary_accuracy: 0.4897 - loss: 1.1179 - val_binary_accuracy: 0.3797 - val_loss: 3.1757\n",
            "Epoch 3/50\n",
            "\u001b[1m8/8\u001b[0m \u001b[32m━━━━━━━━━━━━━━━━━━━━\u001b[0m\u001b[37m\u001b[0m \u001b[1m0s\u001b[0m 21ms/step - binary_accuracy: 0.4751 - loss: 1.1079 - val_binary_accuracy: 0.3932 - val_loss: 2.5469\n",
            "Epoch 4/50\n",
            "\u001b[1m8/8\u001b[0m \u001b[32m━━━━━━━━━━━━━━━━━━━━\u001b[0m\u001b[37m\u001b[0m \u001b[1m0s\u001b[0m 24ms/step - binary_accuracy: 0.4913 - loss: 1.1304 - val_binary_accuracy: 0.3945 - val_loss: 2.1363\n",
            "Epoch 5/50\n",
            "\u001b[1m8/8\u001b[0m \u001b[32m━━━━━━━━━━━━━━━━━━━━\u001b[0m\u001b[37m\u001b[0m \u001b[1m0s\u001b[0m 31ms/step - binary_accuracy: 0.4897 - loss: 1.1526 - val_binary_accuracy: 0.3955 - val_loss: 1.8685\n",
            "Epoch 6/50\n",
            "\u001b[1m8/8\u001b[0m \u001b[32m━━━━━━━━━━━━━━━━━━━━\u001b[0m\u001b[37m\u001b[0m \u001b[1m0s\u001b[0m 23ms/step - binary_accuracy: 0.5020 - loss: 1.1096 - val_binary_accuracy: 0.3957 - val_loss: 1.6491\n",
            "Epoch 7/50\n",
            "\u001b[1m8/8\u001b[0m \u001b[32m━━━━━━━━━━━━━━━━━━━━\u001b[0m\u001b[37m\u001b[0m \u001b[1m0s\u001b[0m 32ms/step - binary_accuracy: 0.4841 - loss: 1.1018 - val_binary_accuracy: 0.3957 - val_loss: 1.4720\n",
            "Epoch 8/50\n",
            "\u001b[1m8/8\u001b[0m \u001b[32m━━━━━━━━━━━━━━━━━━━━\u001b[0m\u001b[37m\u001b[0m \u001b[1m0s\u001b[0m 21ms/step - binary_accuracy: 0.5007 - loss: 1.0994 - val_binary_accuracy: 0.3958 - val_loss: 1.3457\n",
            "Epoch 9/50\n",
            "\u001b[1m8/8\u001b[0m \u001b[32m━━━━━━━━━━━━━━━━━━━━\u001b[0m\u001b[37m\u001b[0m \u001b[1m0s\u001b[0m 31ms/step - binary_accuracy: 0.5009 - loss: 1.0907 - val_binary_accuracy: 0.3958 - val_loss: 1.2282\n",
            "Epoch 10/50\n",
            "\u001b[1m8/8\u001b[0m \u001b[32m━━━━━━━━━━━━━━━━━━━━\u001b[0m\u001b[37m\u001b[0m \u001b[1m0s\u001b[0m 23ms/step - binary_accuracy: 0.4914 - loss: 1.1162 - val_binary_accuracy: 0.3958 - val_loss: 1.1387\n",
            "Epoch 11/50\n",
            "\u001b[1m8/8\u001b[0m \u001b[32m━━━━━━━━━━━━━━━━━━━━\u001b[0m\u001b[37m\u001b[0m \u001b[1m0s\u001b[0m 22ms/step - binary_accuracy: 0.5013 - loss: 1.0883 - val_binary_accuracy: 0.3957 - val_loss: 1.0623\n",
            "Epoch 12/50\n",
            "\u001b[1m8/8\u001b[0m \u001b[32m━━━━━━━━━━━━━━━━━━━━\u001b[0m\u001b[37m\u001b[0m \u001b[1m0s\u001b[0m 31ms/step - binary_accuracy: 0.4770 - loss: 1.1633 - val_binary_accuracy: 0.3937 - val_loss: 1.0102\n",
            "Epoch 13/50\n",
            "\u001b[1m8/8\u001b[0m \u001b[32m━━━━━━━━━━━━━━━━━━━━\u001b[0m\u001b[37m\u001b[0m \u001b[1m0s\u001b[0m 31ms/step - binary_accuracy: 0.5007 - loss: 1.1236 - val_binary_accuracy: 0.3867 - val_loss: 0.9653\n",
            "Epoch 14/50\n",
            "\u001b[1m8/8\u001b[0m \u001b[32m━━━━━━━━━━━━━━━━━━━━\u001b[0m\u001b[37m\u001b[0m \u001b[1m0s\u001b[0m 31ms/step - binary_accuracy: 0.5139 - loss: 1.0900 - val_binary_accuracy: 0.3799 - val_loss: 0.9314\n",
            "Epoch 15/50\n",
            "\u001b[1m8/8\u001b[0m \u001b[32m━━━━━━━━━━━━━━━━━━━━\u001b[0m\u001b[37m\u001b[0m \u001b[1m0s\u001b[0m 31ms/step - binary_accuracy: 0.4754 - loss: 1.1022 - val_binary_accuracy: 0.3689 - val_loss: 0.9010\n",
            "Epoch 16/50\n",
            "\u001b[1m8/8\u001b[0m \u001b[32m━━━━━━━━━━━━━━━━━━━━\u001b[0m\u001b[37m\u001b[0m \u001b[1m0s\u001b[0m 31ms/step - binary_accuracy: 0.4994 - loss: 1.0627 - val_binary_accuracy: 0.3468 - val_loss: 0.8837\n",
            "Epoch 17/50\n",
            "\u001b[1m8/8\u001b[0m \u001b[32m━━━━━━━━━━━━━━━━━━━━\u001b[0m\u001b[37m\u001b[0m \u001b[1m0s\u001b[0m 31ms/step - binary_accuracy: 0.4921 - loss: 1.1106 - val_binary_accuracy: 0.3177 - val_loss: 0.8633\n",
            "Epoch 18/50\n",
            "\u001b[1m8/8\u001b[0m \u001b[32m━━━━━━━━━━━━━━━━━━━━\u001b[0m\u001b[37m\u001b[0m \u001b[1m0s\u001b[0m 32ms/step - binary_accuracy: 0.5101 - loss: 1.0434 - val_binary_accuracy: 0.2844 - val_loss: 0.8501\n",
            "Epoch 19/50\n",
            "\u001b[1m8/8\u001b[0m \u001b[32m━━━━━━━━━━━━━━━━━━━━\u001b[0m\u001b[37m\u001b[0m \u001b[1m0s\u001b[0m 32ms/step - binary_accuracy: 0.4801 - loss: 1.1156 - val_binary_accuracy: 0.2708 - val_loss: 0.8340\n",
            "Epoch 20/50\n",
            "\u001b[1m8/8\u001b[0m \u001b[32m━━━━━━━━━━━━━━━━━━━━\u001b[0m\u001b[37m\u001b[0m \u001b[1m0s\u001b[0m 22ms/step - binary_accuracy: 0.4978 - loss: 1.0849 - val_binary_accuracy: 0.3254 - val_loss: 0.8214\n",
            "Epoch 21/50\n",
            "\u001b[1m8/8\u001b[0m \u001b[32m━━━━━━━━━━━━━━━━━━━━\u001b[0m\u001b[37m\u001b[0m \u001b[1m0s\u001b[0m 21ms/step - binary_accuracy: 0.5181 - loss: 1.0531 - val_binary_accuracy: 0.3218 - val_loss: 0.8041\n",
            "Epoch 22/50\n",
            "\u001b[1m8/8\u001b[0m \u001b[32m━━━━━━━━━━━━━━━━━━━━\u001b[0m\u001b[37m\u001b[0m \u001b[1m0s\u001b[0m 32ms/step - binary_accuracy: 0.5066 - loss: 1.0693 - val_binary_accuracy: 0.2886 - val_loss: 0.7970\n",
            "Epoch 23/50\n",
            "\u001b[1m8/8\u001b[0m \u001b[32m━━━━━━━━━━━━━━━━━━━━\u001b[0m\u001b[37m\u001b[0m \u001b[1m0s\u001b[0m 24ms/step - binary_accuracy: 0.4946 - loss: 1.0483 - val_binary_accuracy: 0.2796 - val_loss: 0.7894\n",
            "Epoch 24/50\n",
            "\u001b[1m8/8\u001b[0m \u001b[32m━━━━━━━━━━━━━━━━━━━━\u001b[0m\u001b[37m\u001b[0m \u001b[1m0s\u001b[0m 32ms/step - binary_accuracy: 0.5033 - loss: 1.0531 - val_binary_accuracy: 0.2772 - val_loss: 0.7796\n",
            "Epoch 25/50\n",
            "\u001b[1m8/8\u001b[0m \u001b[32m━━━━━━━━━━━━━━━━━━━━\u001b[0m\u001b[37m\u001b[0m \u001b[1m0s\u001b[0m 31ms/step - binary_accuracy: 0.4975 - loss: 1.0554 - val_binary_accuracy: 0.2684 - val_loss: 0.7720\n",
            "Epoch 26/50\n",
            "\u001b[1m8/8\u001b[0m \u001b[32m━━━━━━━━━━━━━━━━━━━━\u001b[0m\u001b[37m\u001b[0m \u001b[1m0s\u001b[0m 31ms/step - binary_accuracy: 0.5079 - loss: 1.0654 - val_binary_accuracy: 0.2912 - val_loss: 0.7603\n",
            "Epoch 27/50\n",
            "\u001b[1m8/8\u001b[0m \u001b[32m━━━━━━━━━━━━━━━━━━━━\u001b[0m\u001b[37m\u001b[0m \u001b[1m0s\u001b[0m 23ms/step - binary_accuracy: 0.5068 - loss: 1.0992 - val_binary_accuracy: 0.3141 - val_loss: 0.7526\n",
            "Epoch 28/50\n",
            "\u001b[1m8/8\u001b[0m \u001b[32m━━━━━━━━━━━━━━━━━━━━\u001b[0m\u001b[37m\u001b[0m \u001b[1m0s\u001b[0m 31ms/step - binary_accuracy: 0.5082 - loss: 0.9953 - val_binary_accuracy: 0.3388 - val_loss: 0.7437\n",
            "Epoch 29/50\n",
            "\u001b[1m8/8\u001b[0m \u001b[32m━━━━━━━━━━━━━━━━━━━━\u001b[0m\u001b[37m\u001b[0m \u001b[1m0s\u001b[0m 31ms/step - binary_accuracy: 0.5085 - loss: 1.0267 - val_binary_accuracy: 0.3494 - val_loss: 0.7389\n",
            "Epoch 30/50\n",
            "\u001b[1m8/8\u001b[0m \u001b[32m━━━━━━━━━━━━━━━━━━━━\u001b[0m\u001b[37m\u001b[0m \u001b[1m0s\u001b[0m 22ms/step - binary_accuracy: 0.5267 - loss: 0.9898 - val_binary_accuracy: 0.3597 - val_loss: 0.7347\n",
            "Epoch 31/50\n",
            "\u001b[1m8/8\u001b[0m \u001b[32m━━━━━━━━━━━━━━━━━━━━\u001b[0m\u001b[37m\u001b[0m \u001b[1m0s\u001b[0m 34ms/step - binary_accuracy: 0.5082 - loss: 1.0398 - val_binary_accuracy: 0.3719 - val_loss: 0.7295\n",
            "Epoch 32/50\n",
            "\u001b[1m8/8\u001b[0m \u001b[32m━━━━━━━━━━━━━━━━━━━━\u001b[0m\u001b[37m\u001b[0m \u001b[1m0s\u001b[0m 31ms/step - binary_accuracy: 0.5184 - loss: 1.0338 - val_binary_accuracy: 0.3801 - val_loss: 0.7261\n",
            "Epoch 33/50\n",
            "\u001b[1m8/8\u001b[0m \u001b[32m━━━━━━━━━━━━━━━━━━━━\u001b[0m\u001b[37m\u001b[0m \u001b[1m0s\u001b[0m 31ms/step - binary_accuracy: 0.5326 - loss: 1.0534 - val_binary_accuracy: 0.3933 - val_loss: 0.7209\n",
            "Epoch 34/50\n",
            "\u001b[1m8/8\u001b[0m \u001b[32m━━━━━━━━━━━━━━━━━━━━\u001b[0m\u001b[37m\u001b[0m \u001b[1m0s\u001b[0m 31ms/step - binary_accuracy: 0.5130 - loss: 1.0157 - val_binary_accuracy: 0.4065 - val_loss: 0.7167\n",
            "Epoch 35/50\n",
            "\u001b[1m8/8\u001b[0m \u001b[32m━━━━━━━━━━━━━━━━━━━━\u001b[0m\u001b[37m\u001b[0m \u001b[1m0s\u001b[0m 33ms/step - binary_accuracy: 0.5172 - loss: 1.0553 - val_binary_accuracy: 0.4269 - val_loss: 0.7116\n",
            "Epoch 36/50\n",
            "\u001b[1m8/8\u001b[0m \u001b[32m━━━━━━━━━━━━━━━━━━━━\u001b[0m\u001b[37m\u001b[0m \u001b[1m0s\u001b[0m 22ms/step - binary_accuracy: 0.4930 - loss: 1.0795 - val_binary_accuracy: 0.4475 - val_loss: 0.7060\n",
            "Epoch 37/50\n",
            "\u001b[1m8/8\u001b[0m \u001b[32m━━━━━━━━━━━━━━━━━━━━\u001b[0m\u001b[37m\u001b[0m \u001b[1m0s\u001b[0m 31ms/step - binary_accuracy: 0.5196 - loss: 0.9932 - val_binary_accuracy: 0.4643 - val_loss: 0.7013\n",
            "Epoch 38/50\n",
            "\u001b[1m8/8\u001b[0m \u001b[32m━━━━━━━━━━━━━━━━━━━━\u001b[0m\u001b[37m\u001b[0m \u001b[1m0s\u001b[0m 23ms/step - binary_accuracy: 0.5154 - loss: 1.0031 - val_binary_accuracy: 0.4721 - val_loss: 0.6987\n",
            "Epoch 39/50\n",
            "\u001b[1m8/8\u001b[0m \u001b[32m━━━━━━━━━━━━━━━━━━━━\u001b[0m\u001b[37m\u001b[0m \u001b[1m0s\u001b[0m 22ms/step - binary_accuracy: 0.5016 - loss: 1.0268 - val_binary_accuracy: 0.4800 - val_loss: 0.6957\n",
            "Epoch 40/50\n",
            "\u001b[1m8/8\u001b[0m \u001b[32m━━━━━━━━━━━━━━━━━━━━\u001b[0m\u001b[37m\u001b[0m \u001b[1m0s\u001b[0m 38ms/step - binary_accuracy: 0.4996 - loss: 1.0385 - val_binary_accuracy: 0.4944 - val_loss: 0.6934\n",
            "Epoch 41/50\n",
            "\u001b[1m8/8\u001b[0m \u001b[32m━━━━━━━━━━━━━━━━━━━━\u001b[0m\u001b[37m\u001b[0m \u001b[1m0s\u001b[0m 37ms/step - binary_accuracy: 0.5203 - loss: 1.0231 - val_binary_accuracy: 0.5127 - val_loss: 0.6894\n",
            "Epoch 42/50\n",
            "\u001b[1m8/8\u001b[0m \u001b[32m━━━━━━━━━━━━━━━━━━━━\u001b[0m\u001b[37m\u001b[0m \u001b[1m0s\u001b[0m 37ms/step - binary_accuracy: 0.5112 - loss: 0.9855 - val_binary_accuracy: 0.5256 - val_loss: 0.6839\n",
            "Epoch 43/50\n",
            "\u001b[1m8/8\u001b[0m \u001b[32m━━━━━━━━━━━━━━━━━━━━\u001b[0m\u001b[37m\u001b[0m \u001b[1m0s\u001b[0m 38ms/step - binary_accuracy: 0.5169 - loss: 1.0220 - val_binary_accuracy: 0.5412 - val_loss: 0.6787\n",
            "Epoch 44/50\n",
            "\u001b[1m8/8\u001b[0m \u001b[32m━━━━━━━━━━━━━━━━━━━━\u001b[0m\u001b[37m\u001b[0m \u001b[1m0s\u001b[0m 37ms/step - binary_accuracy: 0.5244 - loss: 1.0351 - val_binary_accuracy: 0.5589 - val_loss: 0.6745\n",
            "Epoch 45/50\n",
            "\u001b[1m8/8\u001b[0m \u001b[32m━━━━━━━━━━━━━━━━━━━━\u001b[0m\u001b[37m\u001b[0m \u001b[1m0s\u001b[0m 37ms/step - binary_accuracy: 0.4960 - loss: 1.0446 - val_binary_accuracy: 0.5731 - val_loss: 0.6710\n",
            "Epoch 46/50\n",
            "\u001b[1m8/8\u001b[0m \u001b[32m━━━━━━━━━━━━━━━━━━━━\u001b[0m\u001b[37m\u001b[0m \u001b[1m0s\u001b[0m 38ms/step - binary_accuracy: 0.5351 - loss: 1.0003 - val_binary_accuracy: 0.5944 - val_loss: 0.6696\n",
            "Epoch 47/50\n",
            "\u001b[1m8/8\u001b[0m \u001b[32m━━━━━━━━━━━━━━━━━━━━\u001b[0m\u001b[37m\u001b[0m \u001b[1m1s\u001b[0m 22ms/step - binary_accuracy: 0.5290 - loss: 1.0203 - val_binary_accuracy: 0.6049 - val_loss: 0.6650\n",
            "Epoch 48/50\n",
            "\u001b[1m8/8\u001b[0m \u001b[32m━━━━━━━━━━━━━━━━━━━━\u001b[0m\u001b[37m\u001b[0m \u001b[1m0s\u001b[0m 33ms/step - binary_accuracy: 0.5074 - loss: 1.0292 - val_binary_accuracy: 0.6036 - val_loss: 0.6618\n",
            "Epoch 49/50\n",
            "\u001b[1m8/8\u001b[0m \u001b[32m━━━━━━━━━━━━━━━━━━━━\u001b[0m\u001b[37m\u001b[0m \u001b[1m0s\u001b[0m 22ms/step - binary_accuracy: 0.5148 - loss: 1.0132 - val_binary_accuracy: 0.6050 - val_loss: 0.6596\n",
            "Epoch 50/50\n",
            "\u001b[1m8/8\u001b[0m \u001b[32m━━━━━━━━━━━━━━━━━━━━\u001b[0m\u001b[37m\u001b[0m \u001b[1m0s\u001b[0m 24ms/step - binary_accuracy: 0.5203 - loss: 1.0147 - val_binary_accuracy: 0.6142 - val_loss: 0.6555\n",
            "\u001b[1m63/63\u001b[0m \u001b[32m━━━━━━━━━━━━━━━━━━━━\u001b[0m\u001b[37m\u001b[0m \u001b[1m0s\u001b[0m 3ms/step\n",
            "Classification Report:\n"
          ]
        },
        {
          "output_type": "error",
          "ename": "ValueError",
          "evalue": "Classification metrics can't handle a mix of multiclass-multioutput and multilabel-indicator targets",
          "traceback": [
            "\u001b[0;31m---------------------------------------------------------------------------\u001b[0m",
            "\u001b[0;31mValueError\u001b[0m                                Traceback (most recent call last)",
            "\u001b[0;32m<ipython-input-14-5c401d59af91>\u001b[0m in \u001b[0;36m<cell line: 0>\u001b[0;34m()\u001b[0m\n\u001b[1;32m    199\u001b[0m \u001b[0;31m# Rapport de classification\u001b[0m\u001b[0;34m\u001b[0m\u001b[0;34m\u001b[0m\u001b[0m\n\u001b[1;32m    200\u001b[0m \u001b[0mprint\u001b[0m\u001b[0;34m(\u001b[0m\u001b[0;34m\"Classification Report:\"\u001b[0m\u001b[0;34m)\u001b[0m\u001b[0;34m\u001b[0m\u001b[0;34m\u001b[0m\u001b[0m\n\u001b[0;32m--> 201\u001b[0;31m \u001b[0mprint\u001b[0m\u001b[0;34m(\u001b[0m\u001b[0mclassification_report\u001b[0m\u001b[0;34m(\u001b[0m\u001b[0my_test\u001b[0m\u001b[0;34m,\u001b[0m \u001b[0my_pred\u001b[0m\u001b[0;34m,\u001b[0m \u001b[0mtarget_names\u001b[0m\u001b[0;34m=\u001b[0m\u001b[0mclass_names\u001b[0m\u001b[0;34m)\u001b[0m\u001b[0;34m)\u001b[0m\u001b[0;34m\u001b[0m\u001b[0;34m\u001b[0m\u001b[0m\n\u001b[0m\u001b[1;32m    202\u001b[0m \u001b[0;34m\u001b[0m\u001b[0m\n\u001b[1;32m    203\u001b[0m \u001b[0;31m# Matrices de confusion pour chaque label\u001b[0m\u001b[0;34m\u001b[0m\u001b[0;34m\u001b[0m\u001b[0m\n",
            "\u001b[0;32m/usr/local/lib/python3.11/dist-packages/sklearn/utils/_param_validation.py\u001b[0m in \u001b[0;36mwrapper\u001b[0;34m(*args, **kwargs)\u001b[0m\n\u001b[1;32m    214\u001b[0m                     )\n\u001b[1;32m    215\u001b[0m                 ):\n\u001b[0;32m--> 216\u001b[0;31m                     \u001b[0;32mreturn\u001b[0m \u001b[0mfunc\u001b[0m\u001b[0;34m(\u001b[0m\u001b[0;34m*\u001b[0m\u001b[0margs\u001b[0m\u001b[0;34m,\u001b[0m \u001b[0;34m**\u001b[0m\u001b[0mkwargs\u001b[0m\u001b[0;34m)\u001b[0m\u001b[0;34m\u001b[0m\u001b[0;34m\u001b[0m\u001b[0m\n\u001b[0m\u001b[1;32m    217\u001b[0m             \u001b[0;32mexcept\u001b[0m \u001b[0mInvalidParameterError\u001b[0m \u001b[0;32mas\u001b[0m \u001b[0me\u001b[0m\u001b[0;34m:\u001b[0m\u001b[0;34m\u001b[0m\u001b[0;34m\u001b[0m\u001b[0m\n\u001b[1;32m    218\u001b[0m                 \u001b[0;31m# When the function is just a wrapper around an estimator, we allow\u001b[0m\u001b[0;34m\u001b[0m\u001b[0;34m\u001b[0m\u001b[0m\n",
            "\u001b[0;32m/usr/local/lib/python3.11/dist-packages/sklearn/metrics/_classification.py\u001b[0m in \u001b[0;36mclassification_report\u001b[0;34m(y_true, y_pred, labels, target_names, sample_weight, digits, output_dict, zero_division)\u001b[0m\n\u001b[1;32m   2669\u001b[0m \u001b[0;34m\u001b[0m\u001b[0m\n\u001b[1;32m   2670\u001b[0m     \u001b[0my_true\u001b[0m\u001b[0;34m,\u001b[0m \u001b[0my_pred\u001b[0m \u001b[0;34m=\u001b[0m \u001b[0mattach_unique\u001b[0m\u001b[0;34m(\u001b[0m\u001b[0my_true\u001b[0m\u001b[0;34m,\u001b[0m \u001b[0my_pred\u001b[0m\u001b[0;34m)\u001b[0m\u001b[0;34m\u001b[0m\u001b[0;34m\u001b[0m\u001b[0m\n\u001b[0;32m-> 2671\u001b[0;31m     \u001b[0my_type\u001b[0m\u001b[0;34m,\u001b[0m \u001b[0my_true\u001b[0m\u001b[0;34m,\u001b[0m \u001b[0my_pred\u001b[0m \u001b[0;34m=\u001b[0m \u001b[0m_check_targets\u001b[0m\u001b[0;34m(\u001b[0m\u001b[0my_true\u001b[0m\u001b[0;34m,\u001b[0m \u001b[0my_pred\u001b[0m\u001b[0;34m)\u001b[0m\u001b[0;34m\u001b[0m\u001b[0;34m\u001b[0m\u001b[0m\n\u001b[0m\u001b[1;32m   2672\u001b[0m \u001b[0;34m\u001b[0m\u001b[0m\n\u001b[1;32m   2673\u001b[0m     \u001b[0;32mif\u001b[0m \u001b[0mlabels\u001b[0m \u001b[0;32mis\u001b[0m \u001b[0;32mNone\u001b[0m\u001b[0;34m:\u001b[0m\u001b[0;34m\u001b[0m\u001b[0;34m\u001b[0m\u001b[0m\n",
            "\u001b[0;32m/usr/local/lib/python3.11/dist-packages/sklearn/metrics/_classification.py\u001b[0m in \u001b[0;36m_check_targets\u001b[0;34m(y_true, y_pred)\u001b[0m\n\u001b[1;32m    105\u001b[0m \u001b[0;34m\u001b[0m\u001b[0m\n\u001b[1;32m    106\u001b[0m     \u001b[0;32mif\u001b[0m \u001b[0mlen\u001b[0m\u001b[0;34m(\u001b[0m\u001b[0my_type\u001b[0m\u001b[0;34m)\u001b[0m \u001b[0;34m>\u001b[0m \u001b[0;36m1\u001b[0m\u001b[0;34m:\u001b[0m\u001b[0;34m\u001b[0m\u001b[0;34m\u001b[0m\u001b[0m\n\u001b[0;32m--> 107\u001b[0;31m         raise ValueError(\n\u001b[0m\u001b[1;32m    108\u001b[0m             \"Classification metrics can't handle a mix of {0} and {1} targets\".format(\n\u001b[1;32m    109\u001b[0m                 \u001b[0mtype_true\u001b[0m\u001b[0;34m,\u001b[0m \u001b[0mtype_pred\u001b[0m\u001b[0;34m\u001b[0m\u001b[0;34m\u001b[0m\u001b[0m\n",
            "\u001b[0;31mValueError\u001b[0m: Classification metrics can't handle a mix of multiclass-multioutput and multilabel-indicator targets"
          ]
        }
      ],
      "source": [
        "import pandas as pd\n",
        "import numpy as np\n",
        "import matplotlib.pyplot as plt\n",
        "import tensorflow as tf\n",
        "from sklearn.model_selection import train_test_split\n",
        "from imblearn.over_sampling import SMOTE\n",
        "from imblearn.under_sampling import RandomUnderSampler\n",
        "from sklearn.metrics import classification_report, confusion_matrix, ConfusionMatrixDisplay\n",
        "from collections import Counter\n",
        "from tensorflow.keras.utils import to_categorical\n",
        "\n",
        "# ----------------------------------------------------------------\n",
        "# ÉTAPE 1 : Chargement et préparation des données\n",
        "# ----------------------------------------------------------------\n",
        "\n",
        "# Charger les données\n",
        "\n",
        "\n",
        "# Renommer la colonne 'Machine failure' en 'Machine working'\n",
        "df.rename(columns={'Machine failure': 'Machine working'}, inplace=True)\n",
        "\n",
        "# Créer la colonne 'Machine working' (inverse des autres pannes)\n",
        "df['Machine working'] = 1 - df[['TWF', 'HDF', 'PWF', 'OSF','RNF']].sum(axis=1)\n",
        "\n",
        "# Créer la colonne 'failure_count' pour compter les pannes\n",
        "df['failure_count'] = df[['TWF', 'HDF', 'PWF', 'OSF']].sum(axis=1)\n",
        "# ----------------------------------------------------------------\n",
        "# ÉTAPE 2 : Split du dataset avant la séparation en A et B\n",
        "# ----------------------------------------------------------------\n",
        "\n",
        "# Diviser le dataset en ensembles d'entraînement et de test\n",
        "train_df, test_df = train_test_split(df, test_size=0.2, random_state=42)\n",
        "\n",
        "# Séparer les ensembles d'entraînement et de test en A et B\n",
        "A_train = train_df[train_df['failure_count'] <= 1]  # Données utilisables en classification single-label\n",
        "B_train = train_df[train_df['failure_count'] > 1]   # Données avec plus d'une panne (multi-label)\n",
        "\n",
        "# ----------------------------------------------------------------\n",
        "# ÉTAPE 3 : Préparation des features et labels pour A_train et A_test\n",
        "# ----------------------------------------------------------------\n",
        "\n",
        "# Définir les features (X) et les labels (y) pour A_train et A_test\n",
        "X_train = A_train[['Air temperature [K]', 'Process temperature [K]', 'Rotational speed [rpm]', 'Torque [Nm]', 'Tool wear [min]']]\n",
        "y_train = A_train[['Machine working', 'TWF', 'HDF', 'PWF', 'OSF']].values  # Encodage binaire pour multi-label\n",
        "\n",
        "X_test = test_df[['Air temperature [K]', 'Process temperature [K]', 'Rotational speed [rpm]', 'Torque [Nm]', 'Tool wear [min]']]\n",
        "y_test = test_df[['Machine working', 'TWF', 'HDF', 'PWF', 'OSF']].values  # Encodage binaire pour multi-label\n",
        "\n",
        "# ----------------------------------------------------------------\n",
        "# ÉTAPE 4 : Équilibrage du dataset avec SMOTE\n",
        "# ----------------------------------------------------------------\n",
        "\n",
        "print(f\"\\n📌 y shape avant SMOTE : {y_train.shape}\")\n",
        "y_train_labels = np.argmax(y_train, axis=1)  # Pour SMOTE, on utilise la classe majoritaire\n",
        "class_counts = Counter(y_train_labels)\n",
        "# ----------------------------------------------------------------\n",
        "# ÉTAPE 4 : Équilibrage du dataset avec SMOTE\n",
        "# ----------------------------------------------------------------\n",
        "\n",
        "# Vérifier la répartition des classes avant SMOTE\n",
        "print(\"Répartition des classes avant SMOTE :\", Counter(np.argmax(y_train, axis=1)))\n",
        "\n",
        "# Si une seule classe est présente, ajuster le sous-échantillonnage\n",
        "if len(np.unique(np.argmax(y_train, axis=1))) == 1:\n",
        "    raise ValueError(\"Une seule classe est présente dans les labels. Ajustez le sous-échantillonnage ou la séparation des données.\")\n",
        "\n",
        "# Définir une stratégie de sous-échantillonnage pour équilibrer les classes\n",
        "# Nous allons sous-échantillonner toutes les classes pour qu'elles aient le même nombre d'échantillons que la classe minoritaire\n",
        "minority_class = min(class_counts, key=class_counts.get)\n",
        "target_count = class_counts[minority_class]  # Nombre d'échantillons de la classe minoritaire\n",
        "\n",
        "# Trouver la classe majoritaire\n",
        "majority_class = max(class_counts, key=class_counts.get)\n",
        "\n",
        "# Définir la stratégie de sous-échantillonnage pour réduire uniquement la classe majoritaire\n",
        "sampling_strategy = {cls: (min(target_count, count) if cls == majority_class else count)\n",
        "                     for cls, count in class_counts.items()}\n",
        "\n",
        "# Sous-échantillonnage de toutes les classes\n",
        "under_sampler = RandomUnderSampler(sampling_strategy=sampling_strategy, random_state=42)\n",
        "X_train_res, y_train_res = under_sampler.fit_resample(X_train, np.argmax(y_train, axis=1))\n",
        "\n",
        "# Vérifier la répartition des classes après sous-échantillonnage\n",
        "print(\"Répartition des classes après sous-échantillonnage :\", Counter(y_train_res))\n",
        "\n",
        "# Application de SMOTE\n",
        "smote = SMOTE(random_state=42)\n",
        "X_res, y_res_indices = smote.fit_resample(X_train_res, y_train_res)\n",
        "\n",
        "# Convertir y_res en encodage binaire après SMOTE\n",
        "y_res_multi = to_categorical(y_res_indices, num_classes=5)\n",
        "print (y_res_multi)\n",
        "print(\"\\n✅ SMOTE appliqué avec succès !\")\n",
        "print(\"\\n📌 Répartition des labels après SMOTE :\")\n",
        "unique, counts = np.unique(np.argmax(y_res_multi, axis=1), return_counts=True)\n",
        "print(dict(zip(unique, counts)))\n",
        "# ----------------------------------------------------------------\n",
        "# ÉTAPE 5 : Concaténation de B_train après SMOTE\n",
        "# ----------------------------------------------------------------\n",
        "\n",
        "X_B_train = B_train[['Air temperature [K]', 'Process temperature [K]', 'Rotational speed [rpm]', 'Torque [Nm]', 'Tool wear [min]']]\n",
        "y_B_train = B_train[['Machine working', 'TWF', 'HDF', 'PWF', 'OSF']].values  # Encodage binaire pour multi-label\n",
        "\n",
        "# Concaténation des données\n",
        "X_train_final = np.concatenate([X_res, X_B_train], axis=0)\n",
        "y_train_final = np.concatenate([y_res_multi, y_B_train], axis=0)\n",
        "\n",
        "X_test_final = X_test\n",
        "y_test_final = y_test\n",
        "\n",
        "print(\"\\n📌 Formes après concaténation :\")\n",
        "print(f\"X_train_final shape : {X_train_final.shape}\")\n",
        "print(f\"y_train_final shape : {y_train_final.shape}\")\n",
        "\n",
        "# ----------------------------------------------------------------\n",
        "# ÉTAPE 6 : Création et entraînement du modèle MLP\n",
        "# ----------------------------------------------------------------\n",
        "# Normalisation des données\n",
        "scaler = StandardScaler()\n",
        "\n",
        "# Appliquer la normalisation sur les données d'entraînement\n",
        "X_train_np = scaler.fit_transform(X_train_final)\n",
        "\n",
        "# Appliquer la même normalisation sur les données de test\n",
        "X_test_np = scaler.transform(X_test_final)\n",
        "\n",
        "# Conversion en np.array (avec type forcé pour éviter les erreurs)\n",
        "X_train_np = np.array(X_train_np, dtype=np.float32)  # Features normalisées\n",
        "y_train_np = np.array(y_train_final, dtype=np.float32)  # Labels encodés en one-hot\n",
        "X_test_np = np.array(X_test_np, dtype=np.float32)\n",
        "y_test_np = np.array(y_test_final, dtype=np.float32)\n",
        "\n",
        "# Vérification des formes\n",
        "print(f\"X_train shape : {X_train_np.shape}, y_train shape : {y_train_np.shape}\")\n",
        "print(f\"X_test shape  : {X_test_np.shape}, y_test shape  : {y_test_np.shape}\")\n",
        "\n",
        "inputs = tf.keras.Input(shape=(5,))\n",
        "x = tf.keras.layers.Dense(128, activation='relu')(inputs)\n",
        "x = tf.keras.layers.BatchNormalization()(x)\n",
        "x = tf.keras.layers.Dropout(0.7)(x)\n",
        "\n",
        "x = tf.keras.layers.Dense(64, activation='relu')(x)\n",
        "x = tf.keras.layers.BatchNormalization()(x)\n",
        "x = tf.keras.layers.Dropout(0.7)(x)\n",
        "\n",
        "x = tf.keras.layers.Dense(32, activation='relu')(x)\n",
        "x = tf.keras.layers.BatchNormalization()(x)\n",
        "x = tf.keras.layers.Dropout(0.7)(x)\n",
        "\n",
        "x = tf.keras.layers.Dense(32, activation='relu')(x)\n",
        "x = tf.keras.layers.BatchNormalization()(x)\n",
        "x = tf.keras.layers.Dropout(0.7)(x)\n",
        "\n",
        "outputs = tf.keras.layers.Dense(5, activation='sigmoid')(x)  # Utilisation de sigmoid pour multi-label\n",
        "\n",
        "my_mlp_model = tf.keras.Model(inputs=inputs, outputs=outputs)\n",
        "my_mlp_model.summary()\n",
        "\n",
        "my_mlp_model.compile(\n",
        "    optimizer=tf.keras.optimizers.Adam(learning_rate=0.0001),\n",
        "    loss='binary_crossentropy',  # Adapté aux problèmes multi-label\n",
        "    metrics=['binary_accuracy']  # Adapté aux problèmes multi-label\n",
        ")\n",
        "\n",
        "early_stopping = tf.keras.callbacks.EarlyStopping(\n",
        "    monitor=\"val_loss\", patience=5, restore_best_weights=True\n",
        ")\n",
        "\n",
        "nb_epochs = 50\n",
        "batch_size = 64\n",
        "training_history = my_mlp_model.fit(\n",
        "    X_train_final, y_train_final,\n",
        "    validation_data=(X_test_final, y_test_final),\n",
        "    epochs=nb_epochs,\n",
        "    batch_size=batch_size,\n",
        "    callbacks=[early_stopping]\n",
        ")\n",
        "\n",
        "# ----------------------------------------------------------------\n",
        "# ÉTAPE 7 : Évaluation du modèle\n",
        "# ----------------------------------------------------------------\n",
        "import numpy as np\n",
        "import matplotlib.pyplot as plt\n",
        "from sklearn.metrics import classification_report, confusion_matrix, ConfusionMatrixDisplay\n",
        "\n",
        "# Prédictions du modèle\n",
        "y_pred = my_mlp_model.predict(X_test_final).astype(int)\n",
        "#y_pred = (y_pred_proba >= 0.5).astype(int)\n",
        "\n",
        "# Vérification des formats\n",
        "if isinstance(y_test_final, pd.DataFrame):\n",
        "    y_test_final = y_test_final.values\n",
        "if isinstance(y_pred, pd.DataFrame):\n",
        "    y_pred = y_pred.values\n",
        "\n",
        "# Noms des classes\n",
        "class_names = ['Machine failure', 'TWF', 'HDF', 'PWF', 'OSF']\n",
        "\n",
        "# Rapport de classification\n",
        "print(\"Classification Report:\")\n",
        "print(classification_report(y_test, y_pred, target_names=class_names))\n",
        "\n",
        "# Matrices de confusion pour chaque label\n",
        "for idx, label in enumerate(class_names):\n",
        "    cm = confusion_matrix(y_test[:, idx], y_pred[:, idx])  # Ici plus d'erreur\n",
        "    disp = ConfusionMatrixDisplay(confusion_matrix=cm, display_labels=[0, 1])\n",
        "    disp.plot()\n",
        "    plt.title(f\"Confusion Matrix for {label}\")\n",
        "    plt.show()"
      ]
    },
    {
      "cell_type": "markdown",
      "source": [],
      "metadata": {
        "id": "iwJjG5u82CMn"
      }
    },
    {
      "cell_type": "code",
      "source": [
        "# Télécharger les modèles\n",
        "\n",
        "np.save(\"AI4I_xtest_NN_C2_16_10.npy\", X_test)\n",
        "np.save(\"_ytest_NN_C2_16_10.npy\", y_test)\n",
        "my_mlp_model.save(\"MNIST_NN_C2_16_10.h5\")"
      ],
      "metadata": {
        "id": "U33jsn_qu4IE"
      },
      "execution_count": null,
      "outputs": []
    },
    {
      "cell_type": "markdown",
      "metadata": {
        "id": "Zn5BBAI3pHXf"
      },
      "source": [
        "**ANALYSIS QUESTION** What do you observe? What can you conclude?"
      ]
    },
    {
      "cell_type": "markdown",
      "metadata": {
        "id": "SIf8rfU9pIGd"
      },
      "source": [
        "\"Write your response here\""
      ]
    }
  ],
  "metadata": {
    "colab": {
      "provenance": [],
      "include_colab_link": true
    },
    "kernelspec": {
      "display_name": "Python 3",
      "name": "python3"
    },
    "language_info": {
      "name": "python"
    }
  },
  "nbformat": 4,
  "nbformat_minor": 0
}